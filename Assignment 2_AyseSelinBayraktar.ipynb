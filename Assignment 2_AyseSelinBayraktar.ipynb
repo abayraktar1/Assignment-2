{
 "cells": [
  {
   "cell_type": "markdown",
   "id": "c441e4ca",
   "metadata": {},
   "source": [
    "# Assignment 2\n",
    "* In this assignment you will be working with three data files from iMDB:\n",
    "    * cast.csv\n",
    "    * release_dates.csv\n",
    "    * titles.csv\n",
    "* Using the appropriate file(s), answer the following questions\n",
    "* Some questions can be completed with one-liners while others are a bit more involved\n",
    "* Where appropriate, answers should also provide brief commentary\n",
    "* Exclude data that doen't make senss, i.e. data from the future\n",
    "* Once complete upload this notebook to your classwork Github repo and post the link on Canvas "
   ]
  },
  {
   "cell_type": "code",
   "execution_count": null,
   "id": "96e2e143",
   "metadata": {},
   "outputs": [],
   "source": [
    "import numpy as np\n",
    "import pandas as pd\n",
    "import matplotlib.pyplot as plt"
   ]
  },
  {
   "cell_type": "code",
   "execution_count": 1,
   "id": "f4594546",
   "metadata": {},
   "outputs": [],
   "source": [
    "path1 = \"C:/Users/NOT_A/Downloads/titles.csv\"\n",
    "path2 = \"C:/Users/NOT_A/Downloads/release_dates.csv\"\n",
    "path3 = \"C:/Users/NOT_A/Downloads/cast.csv\"\n",
    "\n",
    "titles = pd.read_csv(path1)\n",
    "release_dates = pd.read_csv(path2)\n",
    "cast = pd.read_csv(path3)"
   ]
  },
  {
   "cell_type": "markdown",
   "id": "7f3efd04",
   "metadata": {},
   "source": [
    "### 1. Conduct a high level assessment of the three data files, i.e. how many records are there, what kind of data, etc. Summarize your findings with annotation. "
   ]
  },
  {
   "cell_type": "code",
   "execution_count": 12,
   "id": "f6fcf910",
   "metadata": {},
   "outputs": [
    {
     "data": {
      "text/html": [
       "<div>\n",
       "<style scoped>\n",
       "    .dataframe tbody tr th:only-of-type {\n",
       "        vertical-align: middle;\n",
       "    }\n",
       "\n",
       "    .dataframe tbody tr th {\n",
       "        vertical-align: top;\n",
       "    }\n",
       "\n",
       "    .dataframe thead th {\n",
       "        text-align: right;\n",
       "    }\n",
       "</style>\n",
       "<table border=\"1\" class=\"dataframe\">\n",
       "  <thead>\n",
       "    <tr style=\"text-align: right;\">\n",
       "      <th></th>\n",
       "      <th>title</th>\n",
       "      <th>year</th>\n",
       "      <th>name</th>\n",
       "      <th>type</th>\n",
       "      <th>character</th>\n",
       "      <th>n</th>\n",
       "    </tr>\n",
       "  </thead>\n",
       "  <tbody>\n",
       "    <tr>\n",
       "      <th>0</th>\n",
       "      <td>Closet Monster</td>\n",
       "      <td>2015</td>\n",
       "      <td>Buffy #1</td>\n",
       "      <td>actor</td>\n",
       "      <td>Buffy 4</td>\n",
       "      <td>31.0</td>\n",
       "    </tr>\n",
       "    <tr>\n",
       "      <th>1</th>\n",
       "      <td>Suuri illusioni</td>\n",
       "      <td>1985</td>\n",
       "      <td>Homo $</td>\n",
       "      <td>actor</td>\n",
       "      <td>Guests</td>\n",
       "      <td>22.0</td>\n",
       "    </tr>\n",
       "    <tr>\n",
       "      <th>2</th>\n",
       "      <td>Battle of the Sexes</td>\n",
       "      <td>2017</td>\n",
       "      <td>$hutter</td>\n",
       "      <td>actor</td>\n",
       "      <td>Bobby Riggs Fan</td>\n",
       "      <td>10.0</td>\n",
       "    </tr>\n",
       "    <tr>\n",
       "      <th>3</th>\n",
       "      <td>Secret in Their Eyes</td>\n",
       "      <td>2015</td>\n",
       "      <td>$hutter</td>\n",
       "      <td>actor</td>\n",
       "      <td>2002 Dodger Fan</td>\n",
       "      <td>NaN</td>\n",
       "    </tr>\n",
       "    <tr>\n",
       "      <th>4</th>\n",
       "      <td>Steve Jobs</td>\n",
       "      <td>2015</td>\n",
       "      <td>$hutter</td>\n",
       "      <td>actor</td>\n",
       "      <td>1988 Opera House Patron</td>\n",
       "      <td>NaN</td>\n",
       "    </tr>\n",
       "  </tbody>\n",
       "</table>\n",
       "</div>"
      ],
      "text/plain": [
       "                  title  year      name   type                character     n\n",
       "0        Closet Monster  2015  Buffy #1  actor                  Buffy 4  31.0\n",
       "1       Suuri illusioni  1985    Homo $  actor                   Guests  22.0\n",
       "2   Battle of the Sexes  2017   $hutter  actor          Bobby Riggs Fan  10.0\n",
       "3  Secret in Their Eyes  2015   $hutter  actor          2002 Dodger Fan   NaN\n",
       "4            Steve Jobs  2015   $hutter  actor  1988 Opera House Patron   NaN"
      ]
     },
     "execution_count": 12,
     "metadata": {},
     "output_type": "execute_result"
    }
   ],
   "source": [
    "cast.head()"
   ]
  },
  {
   "cell_type": "code",
   "execution_count": 6,
   "id": "802f88ae",
   "metadata": {},
   "outputs": [
    {
     "data": {
      "text/html": [
       "<div>\n",
       "<style scoped>\n",
       "    .dataframe tbody tr th:only-of-type {\n",
       "        vertical-align: middle;\n",
       "    }\n",
       "\n",
       "    .dataframe tbody tr th {\n",
       "        vertical-align: top;\n",
       "    }\n",
       "\n",
       "    .dataframe thead th {\n",
       "        text-align: right;\n",
       "    }\n",
       "</style>\n",
       "<table border=\"1\" class=\"dataframe\">\n",
       "  <thead>\n",
       "    <tr style=\"text-align: right;\">\n",
       "      <th></th>\n",
       "      <th>title</th>\n",
       "      <th>year</th>\n",
       "      <th>name</th>\n",
       "      <th>type</th>\n",
       "      <th>character</th>\n",
       "      <th>n</th>\n",
       "    </tr>\n",
       "  </thead>\n",
       "  <tbody>\n",
       "    <tr>\n",
       "      <th>3442899</th>\n",
       "      <td>Skammdegi</td>\n",
       "      <td>1985</td>\n",
       "      <td>Dalla Þórðardóttir</td>\n",
       "      <td>actress</td>\n",
       "      <td>Hjúkrunarkona</td>\n",
       "      <td>9.0</td>\n",
       "    </tr>\n",
       "    <tr>\n",
       "      <th>3442900</th>\n",
       "      <td>U.S.S.S.S...</td>\n",
       "      <td>2003</td>\n",
       "      <td>Kristín Andrea Þórðardóttir</td>\n",
       "      <td>actress</td>\n",
       "      <td>Afgr.dama á bensínstöð</td>\n",
       "      <td>17.0</td>\n",
       "    </tr>\n",
       "    <tr>\n",
       "      <th>3442901</th>\n",
       "      <td>Bye Bye Blue Bird</td>\n",
       "      <td>1999</td>\n",
       "      <td>Rosa á Rógvu</td>\n",
       "      <td>actress</td>\n",
       "      <td>Pensionatværtinde</td>\n",
       "      <td>NaN</td>\n",
       "    </tr>\n",
       "  </tbody>\n",
       "</table>\n",
       "</div>"
      ],
      "text/plain": [
       "                     title  year                         name     type  \\\n",
       "3442899          Skammdegi  1985           Dalla Þórðardóttir  actress   \n",
       "3442900       U.S.S.S.S...  2003  Kristín Andrea Þórðardóttir  actress   \n",
       "3442901  Bye Bye Blue Bird  1999                 Rosa á Rógvu  actress   \n",
       "\n",
       "                      character     n  \n",
       "3442899           Hjúkrunarkona   9.0  \n",
       "3442900  Afgr.dama á bensínstöð  17.0  \n",
       "3442901       Pensionatværtinde   NaN  "
      ]
     },
     "execution_count": 6,
     "metadata": {},
     "output_type": "execute_result"
    }
   ],
   "source": [
    "cast.tail(3)"
   ]
  },
  {
   "cell_type": "code",
   "execution_count": 7,
   "id": "f47339cb",
   "metadata": {},
   "outputs": [
    {
     "name": "stdout",
     "output_type": "stream",
     "text": [
      "Number of records: 3442902\n"
     ]
    }
   ],
   "source": [
    "print(\"Number of records:\", len(cast))"
   ]
  },
  {
   "cell_type": "code",
   "execution_count": 8,
   "id": "1b749aba",
   "metadata": {},
   "outputs": [
    {
     "data": {
      "text/plain": [
       "title        3442896\n",
       "year         3442902\n",
       "name         3442902\n",
       "type         3442902\n",
       "character    3442894\n",
       "n            2115119\n",
       "dtype: int64"
      ]
     },
     "execution_count": 8,
     "metadata": {},
     "output_type": "execute_result"
    }
   ],
   "source": [
    "cast.count()"
   ]
  },
  {
   "cell_type": "code",
   "execution_count": 9,
   "id": "68785bf9",
   "metadata": {},
   "outputs": [
    {
     "data": {
      "text/plain": [
       "3442896"
      ]
     },
     "execution_count": 9,
     "metadata": {},
     "output_type": "execute_result"
    }
   ],
   "source": [
    "cast.title.count()"
   ]
  },
  {
   "cell_type": "code",
   "execution_count": 10,
   "id": "2fc9eadc",
   "metadata": {},
   "outputs": [
    {
     "data": {
      "text/plain": [
       "20657412"
      ]
     },
     "execution_count": 10,
     "metadata": {},
     "output_type": "execute_result"
    }
   ],
   "source": [
    "cast.size"
   ]
  },
  {
   "cell_type": "code",
   "execution_count": 11,
   "id": "6357e6be",
   "metadata": {},
   "outputs": [
    {
     "name": "stdout",
     "output_type": "stream",
     "text": [
      "<class 'pandas.core.frame.DataFrame'>\n",
      "RangeIndex: 3442902 entries, 0 to 3442901\n",
      "Data columns (total 6 columns):\n",
      " #   Column     Dtype  \n",
      "---  ------     -----  \n",
      " 0   title      object \n",
      " 1   year       int64  \n",
      " 2   name       object \n",
      " 3   type       object \n",
      " 4   character  object \n",
      " 5   n          float64\n",
      "dtypes: float64(1), int64(1), object(4)\n",
      "memory usage: 157.6+ MB\n"
     ]
    }
   ],
   "source": [
    "cast.info()"
   ]
  },
  {
   "cell_type": "code",
   "execution_count": 13,
   "id": "03bc8314",
   "metadata": {},
   "outputs": [
    {
     "data": {
      "text/html": [
       "<div>\n",
       "<style scoped>\n",
       "    .dataframe tbody tr th:only-of-type {\n",
       "        vertical-align: middle;\n",
       "    }\n",
       "\n",
       "    .dataframe tbody tr th {\n",
       "        vertical-align: top;\n",
       "    }\n",
       "\n",
       "    .dataframe thead th {\n",
       "        text-align: right;\n",
       "    }\n",
       "</style>\n",
       "<table border=\"1\" class=\"dataframe\">\n",
       "  <thead>\n",
       "    <tr style=\"text-align: right;\">\n",
       "      <th></th>\n",
       "      <th>title</th>\n",
       "      <th>year</th>\n",
       "    </tr>\n",
       "  </thead>\n",
       "  <tbody>\n",
       "    <tr>\n",
       "      <th>0</th>\n",
       "      <td>Ankara ekspresi</td>\n",
       "      <td>1952</td>\n",
       "    </tr>\n",
       "    <tr>\n",
       "      <th>1</th>\n",
       "      <td>Ans Vaterland, ans teure</td>\n",
       "      <td>1915</td>\n",
       "    </tr>\n",
       "    <tr>\n",
       "      <th>2</th>\n",
       "      <td>Miss Mohini</td>\n",
       "      <td>2002</td>\n",
       "    </tr>\n",
       "    <tr>\n",
       "      <th>3</th>\n",
       "      <td>La vera madre</td>\n",
       "      <td>1999</td>\n",
       "    </tr>\n",
       "    <tr>\n",
       "      <th>4</th>\n",
       "      <td>O Amerikanos</td>\n",
       "      <td>1993</td>\n",
       "    </tr>\n",
       "  </tbody>\n",
       "</table>\n",
       "</div>"
      ],
      "text/plain": [
       "                      title  year\n",
       "0           Ankara ekspresi  1952\n",
       "1  Ans Vaterland, ans teure  1915\n",
       "2               Miss Mohini  2002\n",
       "3             La vera madre  1999\n",
       "4              O Amerikanos  1993"
      ]
     },
     "execution_count": 13,
     "metadata": {},
     "output_type": "execute_result"
    }
   ],
   "source": [
    "titles.head()"
   ]
  },
  {
   "cell_type": "code",
   "execution_count": 14,
   "id": "71cc01a2",
   "metadata": {},
   "outputs": [
    {
     "data": {
      "text/html": [
       "<div>\n",
       "<style scoped>\n",
       "    .dataframe tbody tr th:only-of-type {\n",
       "        vertical-align: middle;\n",
       "    }\n",
       "\n",
       "    .dataframe tbody tr th {\n",
       "        vertical-align: top;\n",
       "    }\n",
       "\n",
       "    .dataframe thead th {\n",
       "        text-align: right;\n",
       "    }\n",
       "</style>\n",
       "<table border=\"1\" class=\"dataframe\">\n",
       "  <thead>\n",
       "    <tr style=\"text-align: right;\">\n",
       "      <th></th>\n",
       "      <th>title</th>\n",
       "      <th>year</th>\n",
       "    </tr>\n",
       "  </thead>\n",
       "  <tbody>\n",
       "    <tr>\n",
       "      <th>226010</th>\n",
       "      <td>Muukalainen</td>\n",
       "      <td>2008</td>\n",
       "    </tr>\n",
       "    <tr>\n",
       "      <th>226011</th>\n",
       "      <td>Byeolmyeongbuteun unjeonsa</td>\n",
       "      <td>1977</td>\n",
       "    </tr>\n",
       "    <tr>\n",
       "      <th>226012</th>\n",
       "      <td>Red Headed Woman</td>\n",
       "      <td>1932</td>\n",
       "    </tr>\n",
       "  </tbody>\n",
       "</table>\n",
       "</div>"
      ],
      "text/plain": [
       "                             title  year\n",
       "226010                 Muukalainen  2008\n",
       "226011  Byeolmyeongbuteun unjeonsa  1977\n",
       "226012            Red Headed Woman  1932"
      ]
     },
     "execution_count": 14,
     "metadata": {},
     "output_type": "execute_result"
    }
   ],
   "source": [
    "titles.tail(3)"
   ]
  },
  {
   "cell_type": "code",
   "execution_count": 15,
   "id": "5584f3e7",
   "metadata": {},
   "outputs": [
    {
     "name": "stdout",
     "output_type": "stream",
     "text": [
      "Number of records: 226013\n"
     ]
    }
   ],
   "source": [
    "print(\"Number of records:\", len(titles))"
   ]
  },
  {
   "cell_type": "code",
   "execution_count": 16,
   "id": "60a9c6bb",
   "metadata": {},
   "outputs": [
    {
     "data": {
      "text/plain": [
       "title    226012\n",
       "year     226013\n",
       "dtype: int64"
      ]
     },
     "execution_count": 16,
     "metadata": {},
     "output_type": "execute_result"
    }
   ],
   "source": [
    "titles.count()"
   ]
  },
  {
   "cell_type": "code",
   "execution_count": 17,
   "id": "3e226503",
   "metadata": {},
   "outputs": [
    {
     "data": {
      "text/plain": [
       "226012"
      ]
     },
     "execution_count": 17,
     "metadata": {},
     "output_type": "execute_result"
    }
   ],
   "source": [
    "titles.title.count()"
   ]
  },
  {
   "cell_type": "code",
   "execution_count": 18,
   "id": "49774c43",
   "metadata": {},
   "outputs": [
    {
     "data": {
      "text/plain": [
       "452026"
      ]
     },
     "execution_count": 18,
     "metadata": {},
     "output_type": "execute_result"
    }
   ],
   "source": [
    "titles.size"
   ]
  },
  {
   "cell_type": "code",
   "execution_count": 19,
   "id": "3b1a38a0",
   "metadata": {},
   "outputs": [
    {
     "name": "stdout",
     "output_type": "stream",
     "text": [
      "<class 'pandas.core.frame.DataFrame'>\n",
      "RangeIndex: 226013 entries, 0 to 226012\n",
      "Data columns (total 2 columns):\n",
      " #   Column  Non-Null Count   Dtype \n",
      "---  ------  --------------   ----- \n",
      " 0   title   226012 non-null  object\n",
      " 1   year    226013 non-null  int64 \n",
      "dtypes: int64(1), object(1)\n",
      "memory usage: 3.4+ MB\n"
     ]
    }
   ],
   "source": [
    "titles.info()"
   ]
  },
  {
   "cell_type": "code",
   "execution_count": 20,
   "id": "362366cd",
   "metadata": {
    "scrolled": true
   },
   "outputs": [
    {
     "data": {
      "text/html": [
       "<div>\n",
       "<style scoped>\n",
       "    .dataframe tbody tr th:only-of-type {\n",
       "        vertical-align: middle;\n",
       "    }\n",
       "\n",
       "    .dataframe tbody tr th {\n",
       "        vertical-align: top;\n",
       "    }\n",
       "\n",
       "    .dataframe thead th {\n",
       "        text-align: right;\n",
       "    }\n",
       "</style>\n",
       "<table border=\"1\" class=\"dataframe\">\n",
       "  <thead>\n",
       "    <tr style=\"text-align: right;\">\n",
       "      <th></th>\n",
       "      <th>title</th>\n",
       "      <th>year</th>\n",
       "      <th>country</th>\n",
       "      <th>date</th>\n",
       "    </tr>\n",
       "  </thead>\n",
       "  <tbody>\n",
       "    <tr>\n",
       "      <th>0</th>\n",
       "      <td>#73, Shaanthi Nivaasa</td>\n",
       "      <td>2007</td>\n",
       "      <td>India</td>\n",
       "      <td>2007-06-15</td>\n",
       "    </tr>\n",
       "    <tr>\n",
       "      <th>1</th>\n",
       "      <td>#BKKY</td>\n",
       "      <td>2016</td>\n",
       "      <td>Cambodia</td>\n",
       "      <td>2017-10-12</td>\n",
       "    </tr>\n",
       "    <tr>\n",
       "      <th>2</th>\n",
       "      <td>#Beings</td>\n",
       "      <td>2015</td>\n",
       "      <td>Romania</td>\n",
       "      <td>2015-01-29</td>\n",
       "    </tr>\n",
       "    <tr>\n",
       "      <th>3</th>\n",
       "      <td>#Captured</td>\n",
       "      <td>2017</td>\n",
       "      <td>USA</td>\n",
       "      <td>2017-09-05</td>\n",
       "    </tr>\n",
       "    <tr>\n",
       "      <th>4</th>\n",
       "      <td>#Ewankosau saranghaeyo</td>\n",
       "      <td>2015</td>\n",
       "      <td>Philippines</td>\n",
       "      <td>2015-01-21</td>\n",
       "    </tr>\n",
       "  </tbody>\n",
       "</table>\n",
       "</div>"
      ],
      "text/plain": [
       "                    title  year      country        date\n",
       "0   #73, Shaanthi Nivaasa  2007        India  2007-06-15\n",
       "1                   #BKKY  2016     Cambodia  2017-10-12\n",
       "2                 #Beings  2015      Romania  2015-01-29\n",
       "3               #Captured  2017          USA  2017-09-05\n",
       "4  #Ewankosau saranghaeyo  2015  Philippines  2015-01-21"
      ]
     },
     "execution_count": 20,
     "metadata": {},
     "output_type": "execute_result"
    }
   ],
   "source": [
    "release_dates.head()"
   ]
  },
  {
   "cell_type": "code",
   "execution_count": 21,
   "id": "ab65bc65",
   "metadata": {
    "scrolled": true
   },
   "outputs": [
    {
     "data": {
      "text/html": [
       "<div>\n",
       "<style scoped>\n",
       "    .dataframe tbody tr th:only-of-type {\n",
       "        vertical-align: middle;\n",
       "    }\n",
       "\n",
       "    .dataframe tbody tr th {\n",
       "        vertical-align: top;\n",
       "    }\n",
       "\n",
       "    .dataframe thead th {\n",
       "        text-align: right;\n",
       "    }\n",
       "</style>\n",
       "<table border=\"1\" class=\"dataframe\">\n",
       "  <thead>\n",
       "    <tr style=\"text-align: right;\">\n",
       "      <th></th>\n",
       "      <th>title</th>\n",
       "      <th>year</th>\n",
       "      <th>country</th>\n",
       "      <th>date</th>\n",
       "    </tr>\n",
       "  </thead>\n",
       "  <tbody>\n",
       "    <tr>\n",
       "      <th>443483</th>\n",
       "      <td>xXx: State of the Union</td>\n",
       "      <td>2005</td>\n",
       "      <td>Turkey</td>\n",
       "      <td>2005-06-03</td>\n",
       "    </tr>\n",
       "    <tr>\n",
       "      <th>443484</th>\n",
       "      <td>xXx: State of the Union</td>\n",
       "      <td>2005</td>\n",
       "      <td>China</td>\n",
       "      <td>2005-06-17</td>\n",
       "    </tr>\n",
       "    <tr>\n",
       "      <th>443485</th>\n",
       "      <td>xXx: State of the Union</td>\n",
       "      <td>2005</td>\n",
       "      <td>Greece</td>\n",
       "      <td>2005-06-24</td>\n",
       "    </tr>\n",
       "  </tbody>\n",
       "</table>\n",
       "</div>"
      ],
      "text/plain": [
       "                          title  year country        date\n",
       "443483  xXx: State of the Union  2005  Turkey  2005-06-03\n",
       "443484  xXx: State of the Union  2005   China  2005-06-17\n",
       "443485  xXx: State of the Union  2005  Greece  2005-06-24"
      ]
     },
     "execution_count": 21,
     "metadata": {},
     "output_type": "execute_result"
    }
   ],
   "source": [
    "release_dates.tail(3)"
   ]
  },
  {
   "cell_type": "code",
   "execution_count": 22,
   "id": "cb7da8ae",
   "metadata": {},
   "outputs": [
    {
     "name": "stdout",
     "output_type": "stream",
     "text": [
      "Number of records: 443486\n"
     ]
    }
   ],
   "source": [
    "print(\"Number of records:\", len(release_dates))"
   ]
  },
  {
   "cell_type": "code",
   "execution_count": 23,
   "id": "457fc5cc",
   "metadata": {},
   "outputs": [
    {
     "data": {
      "text/plain": [
       "title      443485\n",
       "year       443486\n",
       "country    443486\n",
       "date       443486\n",
       "dtype: int64"
      ]
     },
     "execution_count": 23,
     "metadata": {},
     "output_type": "execute_result"
    }
   ],
   "source": [
    "release_dates.count()"
   ]
  },
  {
   "cell_type": "code",
   "execution_count": 24,
   "id": "368b9fc3",
   "metadata": {},
   "outputs": [
    {
     "data": {
      "text/plain": [
       "443485"
      ]
     },
     "execution_count": 24,
     "metadata": {},
     "output_type": "execute_result"
    }
   ],
   "source": [
    "release_dates.title.count()"
   ]
  },
  {
   "cell_type": "code",
   "execution_count": 25,
   "id": "3ff728ad",
   "metadata": {},
   "outputs": [
    {
     "data": {
      "text/plain": [
       "1773944"
      ]
     },
     "execution_count": 25,
     "metadata": {},
     "output_type": "execute_result"
    }
   ],
   "source": [
    "release_dates.size"
   ]
  },
  {
   "cell_type": "code",
   "execution_count": 26,
   "id": "161c958d",
   "metadata": {},
   "outputs": [
    {
     "name": "stdout",
     "output_type": "stream",
     "text": [
      "<class 'pandas.core.frame.DataFrame'>\n",
      "RangeIndex: 443486 entries, 0 to 443485\n",
      "Data columns (total 4 columns):\n",
      " #   Column   Non-Null Count   Dtype \n",
      "---  ------   --------------   ----- \n",
      " 0   title    443485 non-null  object\n",
      " 1   year     443486 non-null  int64 \n",
      " 2   country  443486 non-null  object\n",
      " 3   date     443486 non-null  object\n",
      "dtypes: int64(1), object(3)\n",
      "memory usage: 13.5+ MB\n"
     ]
    }
   ],
   "source": [
    "release_dates.info()"
   ]
  },
  {
   "cell_type": "markdown",
   "id": "8949aee1",
   "metadata": {},
   "source": [
    "### 2. How many movies have the title North by Northwest"
   ]
  },
  {
   "cell_type": "code",
   "execution_count": 31,
   "id": "712cba84",
   "metadata": {},
   "outputs": [
    {
     "data": {
      "text/plain": [
       "title    1\n",
       "year     1\n",
       "dtype: int64"
      ]
     },
     "execution_count": 31,
     "metadata": {},
     "output_type": "execute_result"
    }
   ],
   "source": [
    "titles_cleaned = titles.dropna(subset=['title'])\n",
    "titles_cleaned[titles_cleaned['title'].str.contains(\"North by Northwest\")].count()"
   ]
  },
  {
   "cell_type": "markdown",
   "id": "651191f3",
   "metadata": {},
   "source": [
    "### 3. How many version of Hamlet are there, when was the first made? the last?"
   ]
  },
  {
   "cell_type": "code",
   "execution_count": 46,
   "id": "1e421672",
   "metadata": {},
   "outputs": [
    {
     "name": "stdout",
     "output_type": "stream",
     "text": [
      "Number of versions of Hamlet: 55\n"
     ]
    },
    {
     "data": {
      "text/html": [
       "<div>\n",
       "<style scoped>\n",
       "    .dataframe tbody tr th:only-of-type {\n",
       "        vertical-align: middle;\n",
       "    }\n",
       "\n",
       "    .dataframe tbody tr th {\n",
       "        vertical-align: top;\n",
       "    }\n",
       "\n",
       "    .dataframe thead th {\n",
       "        text-align: right;\n",
       "    }\n",
       "</style>\n",
       "<table border=\"1\" class=\"dataframe\">\n",
       "  <thead>\n",
       "    <tr style=\"text-align: right;\">\n",
       "      <th></th>\n",
       "      <th>title</th>\n",
       "      <th>year</th>\n",
       "    </tr>\n",
       "  </thead>\n",
       "  <tbody>\n",
       "    <tr>\n",
       "      <th>5449</th>\n",
       "      <td>Hamlet 2</td>\n",
       "      <td>2008</td>\n",
       "    </tr>\n",
       "    <tr>\n",
       "      <th>10518</th>\n",
       "      <td>Hamlet's Ghost</td>\n",
       "      <td>2015</td>\n",
       "    </tr>\n",
       "    <tr>\n",
       "      <th>18832</th>\n",
       "      <td>Hamlet A.D.D.</td>\n",
       "      <td>2014</td>\n",
       "    </tr>\n",
       "    <tr>\n",
       "      <th>21870</th>\n",
       "      <td>Intikam Melegi/Kadin Hamlet</td>\n",
       "      <td>1976</td>\n",
       "    </tr>\n",
       "    <tr>\n",
       "      <th>25028</th>\n",
       "      <td>Hamlet</td>\n",
       "      <td>2009</td>\n",
       "    </tr>\n",
       "    <tr>\n",
       "      <th>37189</th>\n",
       "      <td>Green Eggs and Hamlet</td>\n",
       "      <td>1995</td>\n",
       "    </tr>\n",
       "    <tr>\n",
       "      <th>46606</th>\n",
       "      <td>Hamlet: Prince of Denmark</td>\n",
       "      <td>1989</td>\n",
       "    </tr>\n",
       "    <tr>\n",
       "      <th>54760</th>\n",
       "      <td>Han, hun og Hamlet</td>\n",
       "      <td>1922</td>\n",
       "    </tr>\n",
       "    <tr>\n",
       "      <th>59877</th>\n",
       "      <td>Dogg's Hamlet, Cahoot's Macbeth</td>\n",
       "      <td>2005</td>\n",
       "    </tr>\n",
       "    <tr>\n",
       "      <th>64116</th>\n",
       "      <td>Hamlet</td>\n",
       "      <td>1976</td>\n",
       "    </tr>\n",
       "    <tr>\n",
       "      <th>64852</th>\n",
       "      <td>The Tragedy of Hamlet Prince of Denmark</td>\n",
       "      <td>2007</td>\n",
       "    </tr>\n",
       "    <tr>\n",
       "      <th>65095</th>\n",
       "      <td>Hamlet in the Hamptons</td>\n",
       "      <td>2002</td>\n",
       "    </tr>\n",
       "    <tr>\n",
       "      <th>73929</th>\n",
       "      <td>Hamlet</td>\n",
       "      <td>1969</td>\n",
       "    </tr>\n",
       "    <tr>\n",
       "      <th>77199</th>\n",
       "      <td>Hamlet (II)</td>\n",
       "      <td>2017</td>\n",
       "    </tr>\n",
       "    <tr>\n",
       "      <th>79939</th>\n",
       "      <td>Hamlet</td>\n",
       "      <td>1910</td>\n",
       "    </tr>\n",
       "    <tr>\n",
       "      <th>86523</th>\n",
       "      <td>Hamlet Demonstration</td>\n",
       "      <td>2011</td>\n",
       "    </tr>\n",
       "    <tr>\n",
       "      <th>93945</th>\n",
       "      <td>Predstava 'Hamleta' u Mrdusi Donjoj</td>\n",
       "      <td>1974</td>\n",
       "    </tr>\n",
       "    <tr>\n",
       "      <th>109822</th>\n",
       "      <td>Hamlet</td>\n",
       "      <td>2015</td>\n",
       "    </tr>\n",
       "    <tr>\n",
       "      <th>113670</th>\n",
       "      <td>Hamlet</td>\n",
       "      <td>1964</td>\n",
       "    </tr>\n",
       "    <tr>\n",
       "      <th>118331</th>\n",
       "      <td>Hamlet</td>\n",
       "      <td>2014</td>\n",
       "    </tr>\n",
       "    <tr>\n",
       "      <th>118867</th>\n",
       "      <td>Hamlet X</td>\n",
       "      <td>2004</td>\n",
       "    </tr>\n",
       "    <tr>\n",
       "      <th>121873</th>\n",
       "      <td>Hamlet liikemaailmassa</td>\n",
       "      <td>1987</td>\n",
       "    </tr>\n",
       "    <tr>\n",
       "      <th>124281</th>\n",
       "      <td>Hamlet (II)</td>\n",
       "      <td>2015</td>\n",
       "    </tr>\n",
       "    <tr>\n",
       "      <th>129241</th>\n",
       "      <td>Zombie Hamlet</td>\n",
       "      <td>2012</td>\n",
       "    </tr>\n",
       "    <tr>\n",
       "      <th>129673</th>\n",
       "      <td>Hamlet</td>\n",
       "      <td>1911</td>\n",
       "    </tr>\n",
       "    <tr>\n",
       "      <th>132525</th>\n",
       "      <td>Hamlet (II)</td>\n",
       "      <td>1964</td>\n",
       "    </tr>\n",
       "    <tr>\n",
       "      <th>137240</th>\n",
       "      <td>Hamlet</td>\n",
       "      <td>2011</td>\n",
       "    </tr>\n",
       "    <tr>\n",
       "      <th>141682</th>\n",
       "      <td>Hamlet</td>\n",
       "      <td>2000</td>\n",
       "    </tr>\n",
       "    <tr>\n",
       "      <th>143179</th>\n",
       "      <td>Hamlet/Horatio</td>\n",
       "      <td>2017</td>\n",
       "    </tr>\n",
       "    <tr>\n",
       "      <th>144085</th>\n",
       "      <td>Hamlet</td>\n",
       "      <td>1987</td>\n",
       "    </tr>\n",
       "    <tr>\n",
       "      <th>144430</th>\n",
       "      <td>Fuck Hamlet</td>\n",
       "      <td>1996</td>\n",
       "    </tr>\n",
       "    <tr>\n",
       "      <th>147131</th>\n",
       "      <td>Kitchen Hamlet</td>\n",
       "      <td>2009</td>\n",
       "    </tr>\n",
       "    <tr>\n",
       "      <th>148326</th>\n",
       "      <td>National Theatre Live: Hamlet</td>\n",
       "      <td>2015</td>\n",
       "    </tr>\n",
       "    <tr>\n",
       "      <th>150955</th>\n",
       "      <td>A Sagebrush Hamlet</td>\n",
       "      <td>1919</td>\n",
       "    </tr>\n",
       "    <tr>\n",
       "      <th>156416</th>\n",
       "      <td>H for Hamlet</td>\n",
       "      <td>1993</td>\n",
       "    </tr>\n",
       "    <tr>\n",
       "      <th>161129</th>\n",
       "      <td>Han, hun og Hamlet</td>\n",
       "      <td>1932</td>\n",
       "    </tr>\n",
       "    <tr>\n",
       "      <th>162869</th>\n",
       "      <td>Hamlet (II)</td>\n",
       "      <td>2007</td>\n",
       "    </tr>\n",
       "    <tr>\n",
       "      <th>164637</th>\n",
       "      <td>Hamlet</td>\n",
       "      <td>1913</td>\n",
       "    </tr>\n",
       "    <tr>\n",
       "      <th>164727</th>\n",
       "      <td>Harry, Hamlet and I</td>\n",
       "      <td>2013</td>\n",
       "    </tr>\n",
       "    <tr>\n",
       "      <th>174856</th>\n",
       "      <td>Hamlet</td>\n",
       "      <td>1990</td>\n",
       "    </tr>\n",
       "    <tr>\n",
       "      <th>186870</th>\n",
       "      <td>Hamlet</td>\n",
       "      <td>2016</td>\n",
       "    </tr>\n",
       "    <tr>\n",
       "      <th>192154</th>\n",
       "      <td>Hamlet Unbound</td>\n",
       "      <td>2012</td>\n",
       "    </tr>\n",
       "    <tr>\n",
       "      <th>202555</th>\n",
       "      <td>Hamlet: The Fall of a Sparrow</td>\n",
       "      <td>2018</td>\n",
       "    </tr>\n",
       "    <tr>\n",
       "      <th>204180</th>\n",
       "      <td>Hamlet</td>\n",
       "      <td>1973</td>\n",
       "    </tr>\n",
       "    <tr>\n",
       "      <th>207463</th>\n",
       "      <td>Hamlet in the Golden Vale</td>\n",
       "      <td>2017</td>\n",
       "    </tr>\n",
       "    <tr>\n",
       "      <th>208380</th>\n",
       "      <td>Hamlet</td>\n",
       "      <td>2017</td>\n",
       "    </tr>\n",
       "    <tr>\n",
       "      <th>209296</th>\n",
       "      <td>Hamlet, Son of a Kingpin</td>\n",
       "      <td>2015</td>\n",
       "    </tr>\n",
       "    <tr>\n",
       "      <th>212010</th>\n",
       "      <td>Hamlet, Prince of Denmark</td>\n",
       "      <td>1997</td>\n",
       "    </tr>\n",
       "    <tr>\n",
       "      <th>213476</th>\n",
       "      <td>Hamlet</td>\n",
       "      <td>1996</td>\n",
       "    </tr>\n",
       "    <tr>\n",
       "      <th>217918</th>\n",
       "      <td>Hamlet (III)</td>\n",
       "      <td>2007</td>\n",
       "    </tr>\n",
       "    <tr>\n",
       "      <th>219196</th>\n",
       "      <td>Royal Shakespeare Company: Hamlet</td>\n",
       "      <td>2016</td>\n",
       "    </tr>\n",
       "    <tr>\n",
       "      <th>220568</th>\n",
       "      <td>Hamlet</td>\n",
       "      <td>1954</td>\n",
       "    </tr>\n",
       "    <tr>\n",
       "      <th>221201</th>\n",
       "      <td>Hamlet</td>\n",
       "      <td>1948</td>\n",
       "    </tr>\n",
       "    <tr>\n",
       "      <th>221419</th>\n",
       "      <td>Hamlet</td>\n",
       "      <td>1921</td>\n",
       "    </tr>\n",
       "    <tr>\n",
       "      <th>225277</th>\n",
       "      <td>Hamlet the Vampire Slayer</td>\n",
       "      <td>2008</td>\n",
       "    </tr>\n",
       "  </tbody>\n",
       "</table>\n",
       "</div>"
      ],
      "text/plain": [
       "                                          title  year\n",
       "5449                                   Hamlet 2  2008\n",
       "10518                            Hamlet's Ghost  2015\n",
       "18832                             Hamlet A.D.D.  2014\n",
       "21870               Intikam Melegi/Kadin Hamlet  1976\n",
       "25028                                    Hamlet  2009\n",
       "37189                     Green Eggs and Hamlet  1995\n",
       "46606                 Hamlet: Prince of Denmark  1989\n",
       "54760                        Han, hun og Hamlet  1922\n",
       "59877           Dogg's Hamlet, Cahoot's Macbeth  2005\n",
       "64116                                    Hamlet  1976\n",
       "64852   The Tragedy of Hamlet Prince of Denmark  2007\n",
       "65095                    Hamlet in the Hamptons  2002\n",
       "73929                                    Hamlet  1969\n",
       "77199                               Hamlet (II)  2017\n",
       "79939                                    Hamlet  1910\n",
       "86523                      Hamlet Demonstration  2011\n",
       "93945       Predstava 'Hamleta' u Mrdusi Donjoj  1974\n",
       "109822                                   Hamlet  2015\n",
       "113670                                   Hamlet  1964\n",
       "118331                                   Hamlet  2014\n",
       "118867                                 Hamlet X  2004\n",
       "121873                   Hamlet liikemaailmassa  1987\n",
       "124281                              Hamlet (II)  2015\n",
       "129241                            Zombie Hamlet  2012\n",
       "129673                                   Hamlet  1911\n",
       "132525                              Hamlet (II)  1964\n",
       "137240                                   Hamlet  2011\n",
       "141682                                   Hamlet  2000\n",
       "143179                           Hamlet/Horatio  2017\n",
       "144085                                   Hamlet  1987\n",
       "144430                              Fuck Hamlet  1996\n",
       "147131                           Kitchen Hamlet  2009\n",
       "148326            National Theatre Live: Hamlet  2015\n",
       "150955                       A Sagebrush Hamlet  1919\n",
       "156416                             H for Hamlet  1993\n",
       "161129                       Han, hun og Hamlet  1932\n",
       "162869                              Hamlet (II)  2007\n",
       "164637                                   Hamlet  1913\n",
       "164727                      Harry, Hamlet and I  2013\n",
       "174856                                   Hamlet  1990\n",
       "186870                                   Hamlet  2016\n",
       "192154                           Hamlet Unbound  2012\n",
       "202555            Hamlet: The Fall of a Sparrow  2018\n",
       "204180                                   Hamlet  1973\n",
       "207463                Hamlet in the Golden Vale  2017\n",
       "208380                                   Hamlet  2017\n",
       "209296                 Hamlet, Son of a Kingpin  2015\n",
       "212010                Hamlet, Prince of Denmark  1997\n",
       "213476                                   Hamlet  1996\n",
       "217918                             Hamlet (III)  2007\n",
       "219196        Royal Shakespeare Company: Hamlet  2016\n",
       "220568                                   Hamlet  1954\n",
       "221201                                   Hamlet  1948\n",
       "221419                                   Hamlet  1921\n",
       "225277                Hamlet the Vampire Slayer  2008"
      ]
     },
     "execution_count": 46,
     "metadata": {},
     "output_type": "execute_result"
    }
   ],
   "source": [
    "hamlet_movies = titles_cleaned[titles_cleaned['title'].str.contains(\"Hamlet\", case=False)]\n",
    "num_hamlet_versions = hamlet_movies.shape[0]\n",
    "print(\"Number of versions of Hamlet:\", num_hamlet_versions)\n",
    "\n",
    "titles_cleaned[titles_cleaned['title'].str.contains(\"Hamlet\")]"
   ]
  },
  {
   "cell_type": "code",
   "execution_count": 47,
   "id": "435e7f28",
   "metadata": {},
   "outputs": [
    {
     "name": "stdout",
     "output_type": "stream",
     "text": [
      "Earliest release date of Hamlet: 1910\n",
      "Latest release date of Hamlet: 2018\n"
     ]
    }
   ],
   "source": [
    "earliest_release_date = hamlet_movies['year'].min()\n",
    "latest_release_date = hamlet_movies['year'].max()\n",
    "\n",
    "print(\"Earliest release date of Hamlet:\", earliest_release_date)\n",
    "print(\"Latest release date of Hamlet:\", latest_release_date)"
   ]
  },
  {
   "cell_type": "markdown",
   "id": "5650b610",
   "metadata": {},
   "source": [
    "### 4. List all the movies called Treasure Island from oldest to newest"
   ]
  },
  {
   "cell_type": "code",
   "execution_count": 48,
   "id": "9aef2e22",
   "metadata": {},
   "outputs": [
    {
     "name": "stdout",
     "output_type": "stream",
     "text": [
      "Movies called Treasure Island from oldest to newest:\n",
      "                                                    title  year\n",
      "180911                                    Treasure Island  1918\n",
      "108853                                    Treasure Island  1920\n",
      "87953                                     Treasure Island  1934\n",
      "5854                        The Secret of Treasure Island  1938\n",
      "126321                                    Treasure Island  1950\n",
      "8382                            Return to Treasure Island  1954\n",
      "26147                           Five on a Treasure Island  1957\n",
      "190233                                    Treasure Island  1972\n",
      "122150                                    Treasure Island  1973\n",
      "52099                                     Treasure Island  1985\n",
      "188775                             Muppet Treasure Island  1996\n",
      "27633                                Treasure Island (II)  1999\n",
      "36752                                     Treasure Island  1999\n",
      "14019   Treasure Island Kids: The Mystery of Treasure ...  2006\n",
      "11035                          Pirates of Treasure Island  2006\n",
      "7666    Treasure Island Kids: The Battle of Treasure I...  2006\n",
      "202801  Treasure Island Kids: The Monster of Treasure ...  2006\n",
      "160062             National Theatre Live: Treasure Island  2015\n"
     ]
    }
   ],
   "source": [
    "treasure_island_movies = titles_cleaned[titles_cleaned['title'].str.contains(\"Treasure Island\", case=False)]\n",
    "treasure_island_movies_sorted = treasure_island_movies.sort_values(by='year')\n",
    "print(\"Movies called Treasure Island from oldest to newest:\")\n",
    "print(treasure_island_movies_sorted)"
   ]
  },
  {
   "cell_type": "markdown",
   "id": "a94f4524",
   "metadata": {},
   "source": [
    "### 5. How many movies were made in 1950? 1980? 2000? What conclusions can you draw from these data points?"
   ]
  },
  {
   "cell_type": "code",
   "execution_count": 50,
   "id": "636611d9",
   "metadata": {
    "scrolled": true
   },
   "outputs": [
    {
     "name": "stdout",
     "output_type": "stream",
     "text": [
      "                            title  year\n",
      "47                       Vendetta  1950\n",
      "62          The Invisible Monster  1950\n",
      "171         El pecado de quererte  1950\n",
      "432              Battling Marshal  1950\n",
      "507     Fortunes of Captain Blood  1950\n",
      "...                           ...   ...\n",
      "224785                   Doctor X  1950\n",
      "224865                   Rupkatha  1950\n",
      "224879             Xin cha hua nu  1950\n",
      "225382         The Kid from Texas  1950\n",
      "225908           Beauty on Parade  1950\n",
      "\n",
      "[1109 rows x 2 columns]\n"
     ]
    }
   ],
   "source": [
    "movies_1950 = titles[titles['year'] == 1950]\n",
    "print(movies_1950)"
   ]
  },
  {
   "cell_type": "code",
   "execution_count": 52,
   "id": "8d44bdb2",
   "metadata": {},
   "outputs": [
    {
     "name": "stdout",
     "output_type": "stream",
     "text": [
      "                            title  year\n",
      "20                   Fico d'India  1980\n",
      "21                Insaf Ka Tarazu  1980\n",
      "72                   Xiang ye ren  1980\n",
      "144                   Alibha Daga  1980\n",
      "249        Ang leon at ang kuting  1980\n",
      "...                           ...   ...\n",
      "225661  A Woman of Good Character  1980\n",
      "225771               Pile ou face  1980\n",
      "225856      Fantozzi contro tutti  1980\n",
      "225901           Nan bei tui wang  1980\n",
      "225985            Prema Tarangalu  1980\n",
      "\n",
      "[1750 rows x 2 columns]\n"
     ]
    }
   ],
   "source": [
    "movies_1980 = titles[titles['year'] == 1980]\n",
    "print(movies_1980)"
   ]
  },
  {
   "cell_type": "code",
   "execution_count": 53,
   "id": "13166373",
   "metadata": {},
   "outputs": [
    {
     "name": "stdout",
     "output_type": "stream",
     "text": [
      "                       title  year\n",
      "5             Ostatnia misja  2000\n",
      "33             Cesta z mesta  2000\n",
      "66          2000 + 1 stigmes  2000\n",
      "116       It Was an Accident  2000\n",
      "439     Motevalede mahe mehr  2000\n",
      "...                      ...   ...\n",
      "225743    Le sourire d'Alice  2000\n",
      "225853      La jiao jiao shi  2000\n",
      "225870        Vamsodharakudu  2000\n",
      "225926          Foll Al-Foll  2000\n",
      "225932           My Dog Skip  2000\n",
      "\n",
      "[2568 rows x 2 columns]\n"
     ]
    }
   ],
   "source": [
    "movies_2000 = titles[titles['year'] == 2000]\n",
    "print(movies_2000)"
   ]
  },
  {
   "cell_type": "code",
   "execution_count": 60,
   "id": "add0570f",
   "metadata": {},
   "outputs": [
    {
     "data": {
      "image/png": "[encoded data removed]",
      "text/plain": [
       "<Figure size 640x480 with 1 Axes>"
      ]
     },
     "metadata": {},
     "output_type": "display_data"
    }
   ],
   "source": [
    "import matplotlib.pyplot as plt\n",
    "movies_count = [len(movies_1950), len(movies_1980), len(movies_2000)]\n",
    "years = [1950, 1980, 2000]\n",
    "plt.plot(years, movies_count)\n",
    "plt.show()"
   ]
  },
  {
   "cell_type": "markdown",
   "id": "3f141e66",
   "metadata": {},
   "source": [
    "With the advancements in the movie industry, the number of movies produced each year increased."
   ]
  },
  {
   "cell_type": "markdown",
   "id": "0c34799c",
   "metadata": {},
   "source": [
    "### 6. How big was the cast of Metropolis\n"
   ]
  },
  {
   "cell_type": "code",
   "execution_count": 61,
   "id": "4461cc46",
   "metadata": {},
   "outputs": [
    {
     "name": "stdout",
     "output_type": "stream",
     "text": [
      "The size of the cast of Metropolis: 33\n"
     ]
    }
   ],
   "source": [
    "metropolis_cast = cast[cast['title'] == \"Metropolis\"]\n",
    "cast_size = len(metropolis_cast)\n",
    "print(\"The size of the cast of Metropolis:\", cast_size)"
   ]
  },
  {
   "cell_type": "markdown",
   "id": "7dead3d7",
   "metadata": {},
   "source": [
    "### 7. How many roles for actors were there 1950's? 1990's"
   ]
  },
  {
   "cell_type": "code",
   "execution_count": 63,
   "id": "d43aa7f6",
   "metadata": {},
   "outputs": [
    {
     "name": "stdout",
     "output_type": "stream",
     "text": [
      "Number of roles for actors in the 1950s: 209890\n",
      "Number of roles for actors in the 1990s: 361218\n"
     ]
    }
   ],
   "source": [
    "roles_1950s = cast[(cast['year'] >= 1950) & (cast['year'] < 1960)]\n",
    "roles_count_1950s = len(roles_1950s)\n",
    "print(\"Number of roles for actors in the 1950s:\", roles_count_1950s)\n",
    "\n",
    "roles_1990s = cast[(cast['year'] >= 1990) & (cast['year'] < 2000)]\n",
    "roles_count_1990s = len(roles_1990s)\n",
    "print(\"Number of roles for actors in the 1990s:\", roles_count_1990s)"
   ]
  },
  {
   "cell_type": "markdown",
   "id": "3c5ad9f2",
   "metadata": {},
   "source": [
    "### 8. How many roles for actors & actresses over time? Output should be a line graph"
   ]
  },
  {
   "cell_type": "code",
   "execution_count": 66,
   "id": "9f7336d3",
   "metadata": {},
   "outputs": [
    {
     "data": {
      "text/plain": [
       "<Axes: xlabel='year'>"
      ]
     },
     "execution_count": 66,
     "metadata": {},
     "output_type": "execute_result"
    },
    {
     "data": {
      "image/png": "[encoded data removed]",
      "text/plain": [
       "<Figure size 640x480 with 1 Axes>"
      ]
     },
     "metadata": {},
     "output_type": "display_data"
    }
   ],
   "source": [
    "roles = cast.groupby(['year', 'type']).size().unstack(fill_value=0)\n",
    "roles.plot()\n",
    "\n",
    "years = cast['year'].value_counts().sort_index()\n",
    "years.plot()"
   ]
  },
  {
   "cell_type": "markdown",
   "id": "5e3a04c7",
   "metadata": {},
   "source": [
    "### 9. How many \"leading roles\" were there in the 2000's?"
   ]
  },
  {
   "cell_type": "code",
   "execution_count": 71,
   "id": "a4401c78",
   "metadata": {},
   "outputs": [
    {
     "name": "stdout",
     "output_type": "stream",
     "text": [
      "Number of 'leading roles' in the 2000s: 23593\n"
     ]
    }
   ],
   "source": [
    "leading_roles_2000s = cast[(cast['year'] >= 2000) & (cast['year'] < 2010) & (cast['n'] == 1)]\n",
    "num_leading_roles_2000s = leading_roles_2000s.shape[0]\n",
    "print(\"Number of 'leading roles' in the 2000s:\", num_leading_roles_2000s)"
   ]
  },
  {
   "cell_type": "markdown",
   "id": "a60c91b4",
   "metadata": {},
   "source": [
    "### 10. How many roles received no ranking in the 2000's? 1950's. What conclusions can you draw from these two data points?"
   ]
  },
  {
   "cell_type": "code",
   "execution_count": 96,
   "id": "01cc5e7f",
   "metadata": {},
   "outputs": [
    {
     "name": "stdout",
     "output_type": "stream",
     "text": [
      "Number of roles with no ranking in the 2000's: 232036\n",
      "Number of roles with no ranking in the 1950's: 95406\n"
     ]
    }
   ],
   "source": [
    "roles_2000s = cast[(cast['year'] >= 2000) & (cast['year'] < 2010)]\n",
    "roles_1950s = cast[(cast['year'] >= 1950) & (cast['year'] < 1960)]\n",
    "no_ranking_2000s = roles_2000s['n'].isna().sum()\n",
    "no_ranking_1950s = roles_1950s['n'].isna().sum()\n",
    "print(\"Number of roles with no ranking in the 2000's:\", no_ranking_2000s)\n",
    "print(\"Number of roles with no ranking in the 1950's:\", no_ranking_1950s)"
   ]
  },
  {
   "cell_type": "markdown",
   "id": "4db286d5",
   "metadata": {},
   "source": [
    "There were significantly more roles with no ranking in the 2000s compared to the 1950s.\n",
    "The substantial increase in roles with no ranking in the 2000's could be attributed to various factors such as the growth of the film industry, larger ensemble casts, changes in crediting practices, or differences in data availability and recording methods over time."
   ]
  },
  {
   "cell_type": "markdown",
   "id": "33d9c249",
   "metadata": {},
   "source": [
    "### 11. Plot the number of films made in each decade"
   ]
  },
  {
   "cell_type": "code",
   "execution_count": 67,
   "id": "3f6c5b5a",
   "metadata": {},
   "outputs": [
    {
     "data": {
      "text/plain": [
       "<Axes: xlabel='decade'>"
      ]
     },
     "execution_count": 67,
     "metadata": {},
     "output_type": "execute_result"
    },
    {
     "data": {
      "image/png": "[encoded data removed]",
      "text/plain": [
       "<Figure size 640x480 with 1 Axes>"
      ]
     },
     "metadata": {},
     "output_type": "display_data"
    }
   ],
   "source": [
    "release_dates['decade'] = (release_dates['year'] // 10) * 10\n",
    "films_per_decade = release_dates.groupby('decade').size()\n",
    "films_per_decade.plot()"
   ]
  },
  {
   "cell_type": "markdown",
   "id": "7b8b93e3",
   "metadata": {},
   "source": [
    "### 12. Plot the number of films with a Rustler character over time"
   ]
  },
  {
   "cell_type": "code",
   "execution_count": 72,
   "id": "ed1bce02",
   "metadata": {},
   "outputs": [
    {
     "data": {
      "text/plain": [
       "<Axes: xlabel='year'>"
      ]
     },
     "execution_count": 72,
     "metadata": {},
     "output_type": "execute_result"
    },
    {
     "data": {
      "image/png": "[encoded data removed]",
      "text/plain": [
       "<Figure size 640x480 with 1 Axes>"
      ]
     },
     "metadata": {},
     "output_type": "display_data"
    }
   ],
   "source": [
    "rustler_films = cast[cast['character'] == 'Rustler']\n",
    "rustler_films_with_year = pd.merge(rustler_films, release_dates, on=['title', 'year'])\n",
    "rustler_films_per_year = rustler_films_with_year.groupby('year').size()\n",
    "rustler_films_per_year.plot()"
   ]
  },
  {
   "cell_type": "markdown",
   "id": "1df5a8a7",
   "metadata": {},
   "source": [
    "### 13. What are the top ten character names of all time?"
   ]
  },
  {
   "cell_type": "code",
   "execution_count": 73,
   "id": "fc30c391",
   "metadata": {},
   "outputs": [
    {
     "name": "stdout",
     "output_type": "stream",
     "text": [
      "Top ten character names of all time:\n",
      "character\n",
      "Himself        19637\n",
      "Dancer         12019\n",
      "Extra          10848\n",
      "Reporter        7818\n",
      "Doctor          6963\n",
      "Party Guest     6786\n",
      "Student         6631\n",
      "Policeman       6424\n",
      "Bartender       6290\n",
      "Herself         6269\n",
      "Name: count, dtype: int64\n"
     ]
    }
   ],
   "source": [
    "character_counts = cast['character'].value_counts()\n",
    "top_ten_characters = character_counts.head(10)\n",
    "print(\"Top ten character names of all time:\")\n",
    "print(top_ten_characters)"
   ]
  },
  {
   "cell_type": "markdown",
   "id": "febd5c97",
   "metadata": {},
   "source": [
    "### 14. Which actor appeared in the most films in the 1990's decade?"
   ]
  },
  {
   "cell_type": "code",
   "execution_count": 70,
   "id": "ed10c4df",
   "metadata": {},
   "outputs": [
    {
     "name": "stdout",
     "output_type": "stream",
     "text": [
      "Actor who appeared in the most films in the 1990s: Shakti Kapoor\n",
      "Number of films appeared in: 143\n"
     ]
    }
   ],
   "source": [
    "cast_1990s = cast[(cast['year'] >= 1990) & (cast['year'] < 2000)]\n",
    "actor_counts = cast_1990s['name'].value_counts()\n",
    "actor_most_films_1990s = actor_counts.idxmax()\n",
    "num_films_1990s = actor_counts.max()\n",
    "print(\"Actor who appeared in the most films in the 1990s:\", actor_most_films_1990s)\n",
    "print(\"Number of films appeared in:\", num_films_1990s)"
   ]
  },
  {
   "cell_type": "markdown",
   "id": "b2d57a18",
   "metadata": {},
   "source": [
    "### 15. What are the top 10 roles that start with Science?"
   ]
  },
  {
   "cell_type": "code",
   "execution_count": 75,
   "id": "64b41362",
   "metadata": {},
   "outputs": [
    {
     "name": "stdout",
     "output_type": "stream",
     "text": [
      "Top ten roles that start with 'Science':\n",
      "character\n",
      "Science Teacher         57\n",
      "Science Fair Student     9\n",
      "Science Student          6\n",
      "Science Fair Judge       6\n",
      "Science Kid              5\n",
      "Science Fair Kid         5\n",
      "Science Reporter         5\n",
      "Science                  4\n",
      "Science Officer          3\n",
      "Science teacher          3\n",
      "Name: count, dtype: int64\n"
     ]
    }
   ],
   "source": [
    "cast = cast.dropna(subset=['character'])\n",
    "science_roles = cast[cast['character'].str.startswith('Science')]\n",
    "role_counts = science_roles['character'].value_counts()\n",
    "top_ten_roles = role_counts.head(10)\n",
    "print(\"Top ten roles that start with 'Science':\")\n",
    "print(top_ten_roles)"
   ]
  },
  {
   "cell_type": "markdown",
   "id": "7e37caf3",
   "metadata": {},
   "source": [
    "### 16. What film has the largest cast"
   ]
  },
  {
   "cell_type": "code",
   "execution_count": 69,
   "id": "1de674fc",
   "metadata": {},
   "outputs": [
    {
     "name": "stdout",
     "output_type": "stream",
     "text": [
      "Film with the largest cast: Around the World in 80 Days\n",
      "Number of cast members: 1364\n"
     ]
    }
   ],
   "source": [
    "cast_counts = cast['title'].value_counts()\n",
    "film_with_largest_cast = cast_counts.idxmax()\n",
    "largest_cast_count = cast_counts.max()\n",
    "print(\"Film with the largest cast:\", film_with_largest_cast)\n",
    "print(\"Number of cast members:\", largest_cast_count)"
   ]
  },
  {
   "cell_type": "markdown",
   "id": "3a1a26ba",
   "metadata": {},
   "source": [
    "### 17. Generate descriptive statistics for cast size. Briefly comment on the results"
   ]
  },
  {
   "cell_type": "code",
   "execution_count": 78,
   "id": "b0592c92",
   "metadata": {},
   "outputs": [
    {
     "name": "stdout",
     "output_type": "stream",
     "text": [
      "Descriptive statistics for cast size:\n",
      "count    168254.000000\n",
      "mean         20.462444\n",
      "std          24.206624\n",
      "min           1.000000\n",
      "25%           6.000000\n",
      "50%          13.000000\n",
      "75%          26.000000\n",
      "max        1364.000000\n",
      "dtype: float64\n"
     ]
    }
   ],
   "source": [
    "cast_size_stats = cast.groupby('title').size().describe()\n",
    "print(\"Descriptive statistics for cast size:\")\n",
    "print(cast_size_stats)"
   ]
  },
  {
   "cell_type": "markdown",
   "id": "cbe3f775",
   "metadata": {},
   "source": [
    "The film with the smallest cast consists of only 1 cast member whereas the film with the biggest cast has 1364 cast members. On average, movies have 20 cast members. "
   ]
  },
  {
   "cell_type": "markdown",
   "id": "57885f86",
   "metadata": {},
   "source": [
    "### 18. How many films has Natalie Portman been in in each year throughout her career?"
   ]
  },
  {
   "cell_type": "code",
   "execution_count": 81,
   "id": "e2457352",
   "metadata": {},
   "outputs": [
    {
     "name": "stdout",
     "output_type": "stream",
     "text": [
      "Number of films Natalie Portman has been in each year:\n",
      "year\n",
      "1995    1\n",
      "1996    3\n",
      "1999    3\n",
      "2000    1\n",
      "2001    1\n",
      "2002    1\n",
      "2003    1\n",
      "2004    2\n",
      "2005    4\n",
      "2006    2\n",
      "2007    3\n",
      "2008    1\n",
      "2009    2\n",
      "2010    4\n",
      "2011    3\n",
      "2013    1\n",
      "2015    4\n",
      "2016    3\n",
      "2017    1\n",
      "dtype: int64\n"
     ]
    }
   ],
   "source": [
    "natalie_portman_films = cast[cast['name'] == 'Natalie Portman']\n",
    "natalie_portman_films_per_year = natalie_portman_films.groupby('year').size()\n",
    "print(\"Number of films Natalie Portman has been in each year:\")\n",
    "print(natalie_portman_films_per_year)"
   ]
  },
  {
   "cell_type": "markdown",
   "id": "1bff19c5",
   "metadata": {},
   "source": [
    "### 19. How many films did Natalie Portman appear in each year where where she was either the top star or co-star?"
   ]
  },
  {
   "cell_type": "code",
   "execution_count": 82,
   "id": "e2f4d043",
   "metadata": {},
   "outputs": [
    {
     "name": "stdout",
     "output_type": "stream",
     "text": [
      "Number of films Natalie Portman appeared in each year as top star or co-star:\n",
      "year\n",
      "1999    1\n",
      "2000    1\n",
      "2002    1\n",
      "2005    3\n",
      "2006    2\n",
      "2007    1\n",
      "2008    1\n",
      "2009    1\n",
      "2010    2\n",
      "2011    2\n",
      "2013    1\n",
      "2015    2\n",
      "2016    2\n",
      "dtype: int64\n"
     ]
    }
   ],
   "source": [
    "natalie_portman_top_co_star_films = cast[(cast['name'] == 'Natalie Portman') & (cast['n'].isin([1, 2]))]\n",
    "natalie_portman_films_per_year = natalie_portman_top_co_star_films.groupby('year').size()\n",
    "print(\"Number of films Natalie Portman appeared in each year as top star or co-star:\")\n",
    "print(natalie_portman_films_per_year)"
   ]
  },
  {
   "cell_type": "markdown",
   "id": "8eda704b",
   "metadata": {},
   "source": [
    "### 20. Determine how many roles for actor or actress by decade. Plot the output "
   ]
  },
  {
   "cell_type": "code",
   "execution_count": 83,
   "id": "6abd6fe1",
   "metadata": {},
   "outputs": [
    {
     "data": {
      "text/plain": [
       "<Axes: xlabel='decade'>"
      ]
     },
     "execution_count": 83,
     "metadata": {},
     "output_type": "execute_result"
    },
    {
     "data": {
      "image/png": "[encoded data removed]",
      "text/plain": [
       "<Figure size 640x480 with 1 Axes>"
      ]
     },
     "metadata": {},
     "output_type": "display_data"
    }
   ],
   "source": [
    "actors_actresses = cast[cast['type'].isin(['actor', 'actress'])]\n",
    "actors_actresses['decade'] = (actors_actresses['year'] // 10) * 10\n",
    "roles_by_decade = actors_actresses.groupby(['decade', 'type']).size().unstack(fill_value=0)\n",
    "roles_by_decade.plot()"
   ]
  },
  {
   "cell_type": "markdown",
   "id": "fffe663b",
   "metadata": {},
   "source": [
    "### 21. Determine and comment on the day of the week that movies are released. What is notable about release days and months throughout the year? (Use pd.pivot_table)"
   ]
  },
  {
   "cell_type": "code",
   "execution_count": 93,
   "id": "5d3f6e03",
   "metadata": {},
   "outputs": [
    {
     "name": "stdout",
     "output_type": "stream",
     "text": [
      "Number of movies released per day of the week (sorted max to min):\n",
      "day_of_week\n",
      "Friday       163174\n",
      "Thursday     125746\n",
      "Wednesday     53439\n",
      "Monday        37210\n",
      "Saturday      31332\n",
      "Tuesday       16762\n",
      "Sunday        15823\n",
      "dtype: int64\n",
      "\n",
      "Number of movies released per month (sorted max to min):\n",
      "month\n",
      "March        40257\n",
      "October      40204\n",
      "January      39412\n",
      "December     39096\n",
      "November     38201\n",
      "September    37750\n",
      "April        37674\n",
      "February     36307\n",
      "May          35449\n",
      "August       35011\n",
      "June         32704\n",
      "July         31421\n",
      "dtype: int64\n"
     ]
    }
   ],
   "source": [
    "release_dates['date'] = pd.to_datetime(release_dates['date'])\n",
    "release_dates['day_of_week'] = release_dates['date'].dt.day_name()\n",
    "release_dates['month'] = release_dates['date'].dt.month_name()\n",
    "movies_per_day = release_dates.groupby('day_of_week').size().sort_values(ascending=False)\n",
    "movies_per_month = release_dates.groupby('month').size().sort_values(ascending=False)\n",
    "print(\"Number of movies released per day of the week (sorted max to min):\")\n",
    "print(movies_per_day)\n",
    "print(\"\\nNumber of movies released per month (sorted max to min):\")\n",
    "print(movies_per_month)"
   ]
  },
  {
   "cell_type": "markdown",
   "id": "0a919bb8",
   "metadata": {},
   "source": [
    "Most of the movies are released either on a Thursday or a Friday. We can also see a slow season during summer months."
   ]
  },
  {
   "cell_type": "markdown",
   "id": "88b4b805",
   "metadata": {},
   "source": [
    "### 22. Can you plot the pivot table? Is the output \"correct\"? Can you fix it?"
   ]
  },
  {
   "cell_type": "code",
   "execution_count": 94,
   "id": "07152c8b",
   "metadata": {},
   "outputs": [
    {
     "data": {
      "image/png": "[encoded data removed]",
      "text/plain": [
       "<Figure size 1400x600 with 2 Axes>"
      ]
     },
     "metadata": {},
     "output_type": "display_data"
    }
   ],
   "source": [
    "pivot_table_day = pd.pivot_table(release_dates, index='day_of_week', values='title', aggfunc='count')\n",
    "pivot_table_month = pd.pivot_table(release_dates, index='month', values='title', aggfunc='count')\n",
    "\n",
    "# Plotting\n",
    "fig, axes = plt.subplots(1, 2, figsize=(14, 6))\n",
    "\n",
    "pivot_table_day.reindex(['Monday', 'Tuesday', 'Wednesday', 'Thursday', 'Friday', 'Saturday', 'Sunday']).plot(kind='bar', color='skyblue', ax=axes[0])\n",
    "axes[0].set_title('Number of Movies Released by Day of the Week')\n",
    "axes[0].set_xlabel('Day of the Week')\n",
    "axes[0].set_ylabel('Number of Movies')\n",
    "axes[0].tick_params(axis='x', rotation=45)\n",
    "axes[0].grid(axis='y')\n",
    "\n",
    "pivot_table_month.reindex(['January', 'February', 'March', 'April', 'May', 'June', 'July', 'August', 'September', 'October', 'November', 'December']).plot(kind='bar', color='lightgreen', ax=axes[1])\n",
    "axes[1].set_title('Number of Movies Released by Month')\n",
    "axes[1].set_xlabel('Month')\n",
    "axes[1].set_ylabel('Number of Movies')\n",
    "axes[1].tick_params(axis='x', rotation=45)\n",
    "axes[1].grid(axis='y')\n",
    "\n",
    "plt.tight_layout()\n",
    "plt.show()"
   ]
  },
  {
   "cell_type": "markdown",
   "id": "fc787203",
   "metadata": {},
   "source": [
    "The output appears to be correct."
   ]
  },
  {
   "cell_type": "markdown",
   "id": "19fc8bc4",
   "metadata": {},
   "source": [
    "### 23. What films did actors in Star Wars go on to appear in? "
   ]
  },
  {
   "cell_type": "code",
   "execution_count": 95,
   "id": "2de76e6c",
   "metadata": {
    "scrolled": false
   },
   "outputs": [
    {
     "name": "stdout",
     "output_type": "stream",
     "text": [
      "Al Lampert: Big Zapper, Hennessy, Licensed to Love and Kill, Star Wars, The Killing Edge, The Spaceman and King Arthur\n",
      "Alan (III) Harris: A Countess from Hong Kong, Bullshot, Carry on Abroad, Carry on Matron, Hitler: The Last Ten Days, Morons from Outer Space, One of Our Dinosaurs Is Missing, Operation Crossbow, Scrooge, Squeeze Play, Star Wars, Star Wars: Episode V - The Empire Strikes Back, Star Wars: Episode VI - Return of the Jedi, Superman, The Dirty Dozen, The Living Daylights, The Night of the Generals, Top Secret!, Who Dares Wins, Young Winston\n",
      "Alec Guinness: A Handful of Dust, A Majority of One, A Passage to India, A Run for Your Money, Barnacle Bill, Cromwell, Doctor Zhivago, Evensong, Father Brown, Fratello sole, sorella luna, Great Expectations, H.M.S. Defiant, Hitler: The Last Ten Days, Hotel Paradiso, Kafka, Kind Hearts and Coronets, Last Holiday, Lawrence of Arabia, Little Dorrit, Lovesick, Malta Story, Murder by Death, Oliver Twist, Our Man in Havana, Raise the Titanic, Scrooge, Situation Hopeless... But Not Serious, Star Wars, Star Wars: Episode V - The Empire Strikes Back, Star Wars: Episode VI - Return of the Jedi, Star Wars: Episode VII - The Force Awakens, The Bridge on the River Kwai, The Captain's Paradise, The Card, The Comedians, The Fall of the Roman Empire, The Geisha Boy, The Horse's Mouth, The Ladykillers, The Lavender Hill Mob, The Man in the White Suit, The Mudlark, The Prisoner, The Quiller Memorandum, The Scapegoat, The Swan, To Paris with Love, Tunes of Glory\n",
      "Alex McCrindle: Comrades, Depth Charge, Eye of the Needle, Geordie, I Believe in You, Star Wars, The House in the Square, The Kidnappers, The Peregrine Hunters, The Private Life of Sherlock Holmes, Trouble in the Glen\n",
      "Alf Mangan: A Night to Remember, Arabian Adventure, Carry on Camping, Carry on Cowboy, Carry on Girls, Carry On... Don't Lose Your Head, Carry On... Up the Khyber, Catch Us If You Can, Daleks' Invasion Earth 2150 A.D., Don't Raise the Bridge, Lower the River, Dragonslayer, From Russia with Love, Gideon's Day, H.M.S. Defiant, Operation Crossbow, Star Wars, The Fast Lady, The Frightened City, The Lyons in Paris, The MacKintosh Man, The Password Is Courage, The Sheriff of Fractured Jaw, The Wrong Box, Two Way Stretch, Wicked as They Come\n",
      "Alfie Curtis: Star Wars, The Elephant Man, The Wildcats of St. Trinian's\n",
      "Angela Staines: Star Wars\n",
      "Angus MacInnes: Amen., Atlantic City, USA, Bedroom Eyes, Best Revenge, Captain Phillips, Dirty Tricks, Enigma, Eyes Wide Shut, Force 10 from Navarone, Gross Anatomy, Half Moon Street, Honor Bound, If You Could See What I Hear, Judge Dredd, Nothing Personal, Operation Delta Force 4: Deep Fault, Outland, Rhythm & Blues, Rogue One, Rollerball, Spies Inc., Star Wars, Superman II, The 51st State, The Adventures of Bob & Doug McKenzie: Strange Brew, The Black Dahlia, The Jacket, The Krays, Witness\n",
      "Annette Jones: Star Wars\n",
      "Anthony Daniels: Bruges-La-Morte, Ralph Breaks the Internet: Wreck-It Ralph 2, Rogue One, Star Wars, Star Wars: Episode I - The Phantom Menace, Star Wars: Episode II - Attack of the Clones, Star Wars: Episode III - Revenge of the Sith, Star Wars: Episode V - The Empire Strikes Back, Star Wars: Episode VI - Return of the Jedi, Star Wars: Episode VII - The Force Awakens, Star Wars: The Clone Wars, The LEGO Movie, The Lord of the Rings\n",
      "Arthur (II) Howell: Murder Most Foul, On the Game, Star Wars, The Breaking Point, The Passionate Stranger, Whirlpool\n",
      "Barry Copping: Star Wars\n",
      "Barry Gnome: Star Wars\n",
      "Bill Weston: 2001: A Space Odyssey, Enduring Love, Krull, Moon Zero Two, Saving Grace, Star Wars, The Living Daylights, The Oxford Murders, Trial by Combat\n",
      "Burnell Tucker: 2001: A Space Odyssey, A Countess from Hong Kong, Dateline Diamonds, Dr. Strangelove or: How I Learned to Stop Worrying and Love the Bomb, Finders Keepers, Flash Gordon, Honor Bound, Mr. Forbush and the Penguins, Ooh... You Are Awful, Operation Delta Force 4: Deep Fault, Priest of Love, Ragtime, Reds, Rollerball, Some May Live, Star Wars, Star Wars: Episode V - The Empire Strikes Back, Superman, Superman II, The Bedford Incident, The Dirty Dozen, The Last Minute, U-571, Valentino, W.M.D., You Only Live Twice\n",
      "Carrie Fisher: A Midsummer Night's Rave, Appointment with Death, Austin Powers: International Man of Mystery, Charlie's Angels: Full Throttle, Cougar Club, Drop Dead Fred, Fanboys, Garbo Talks, Hannah and Her Sisters, Heartbreakers, Hollywood Vice Squad, Hook, Jay and Silent Bob Strike Back, Lisa Picard Is Famous, Loverboy, Maps to the Stars, Mr. Mike's Mondo Video, Shampoo, She's Back, Sibling Rivalry, Soapdish, Staar: She'd Rather Be a Mistress, Star Wars, Star Wars: Episode V - The Empire Strikes Back, Star Wars: Episode VI - Return of the Jedi, Star Wars: Episode VII - The Force Awakens, Star Wars: Episode VIII - The Last Jedi, Stateside, The 'Burbs, The Blues Brothers, The Man with One Red Shoe, The Time Guardian, The Women, This Is My Life, Under the Rainbow, Undiscovered, When Harry Met Sally..., White Lightnin', Wonderland, Wonderwell\n",
      "Christine Hewett: Bridget Jones's Diary, De-Lovely, Die Another Day, Four Weddings and a Funeral, Star Wars, Strike It Rich, Superman IV: The Quest for Peace, Tommy, Who Framed Roger Rabbit\n",
      "Colin Michael Kitchens: Star Wars\n",
      "David Ankrum: Every Little Crook and Nanny, Linda Lovelace for President, Rogue One, Smorgasbord, Star Wars, The Roommates, The Sting II, The Student Body, The Zebra Force\n",
      "David Prowse: A Clockwork Orange, Black Snake, Callan, Carry on Henry, Casino Royale, Col cuore in gola, Confessions of a Pop Performer, Crossplot, Go for a Take, Hammerhead, Jabberwocky, Open Mic'rs, Saving 'Star Wars', Star Wars, Star Wars: Episode V - The Empire Strikes Back, Star Wars: Episode VI - Return of the Jedi, The Best of Benny Hill, The Kindness of Strangers, The People That Time Forgot, Up Pompeii, Up the Chastity Belt, White Cargo\n",
      "Denis Lawson: Broken (IV), Local Hero, Perfect Sense, Providence, Star Wars, Star Wars: Episode V - The Empire Strikes Back, Star Wars: Episode VI - Return of the Jedi, The Chain, The Machine, The Ride (II), The Wee Man\n",
      "Derek Lyons: A Prayer for the Dying, A View to a Kill, Absolute Beginners, Britannia Hospital, Castaway, Dance with a Stranger, Death Wish 3, Defence of the Realm, Empire State, Flash Gordon, Gandhi, Give My Regards to Broad Street, GoldenEye, Greystoke: The Legend of Tarzan, Lord of the Apes, Hawks, Indiana Jones and the Last Crusade, Krull, Loch Ness, Mona Lisa, Morons from Outer Space, Octopussy, Personal Services, Plenty, Quadrophenia, Ragtime, Richard III, Star Wars, Supergirl, Superman II, Superman III, Superman IV: The Quest for Peace, Tabloid, The Living Daylights, The Lords of Discipline, The Mirror Crack'd, The Missionary, The Razor's Edge, The Return of the Soldier, The Tall Guy, The Young Visiters, Top Secret!, Victor Victoria, Who Framed Roger Rabbit, Yentl, Z-Listers\n",
      "Diana Sadley Way: Star Wars\n",
      "Don (II) Henderson: A Midsummer Night's Dream, As You Like It, Blanc de Chine, Brannigan, Brazil, Callan, Carry on Columbus, FairyTale: A True Story, How's Business, No Escape, Preaching to the Perverted, Star Wars, Tank Malling, The Adventures of Baron Munchausen, The Big Sleep, The Fool, The Prince and the Pauper, The Trial, The Wind in the Willows, Voyage of the Damned, White Angel\n",
      "Doug Beswick: Star Wars\n",
      "Drewe Henley: 633 Squadron, Frenzy, Heavens Above!, Hell Boats, Mrs. Brown, You've Got a Lovely Daughter, Nothing But the Best, Puppet on a Chain, Quest for Love, Rogue One, Star Wars, The Alphabet Murders, When Dinosaurs Ruled the Earth\n",
      "Eddie Byrne: A Kid for Two Farthings, Albert, R.N., All Coppers Are..., Aunt Clara, Beautiful Stranger, Captain Boycott, Children Galore, Dunkirk, Face in the Night, Floods of Fear, Guns in the Heather, Happy Ever After, Hungry Hill, I Can't... I Can't, I See a Dark Stranger, It's Great to Be Young!, Jackpot, Johnny Nobody, Lady Godiva Rides Again, Locker 69, Mutiny on the Bounty, Never Mind the Quality: Feel the Width, Odd Man Out, One Way Out, Reach for the Sky, Rooney, Seven Waves Away, Sinful Davey, Star Wars, Stolen Assignment, The Admirable Crichton, The Bridal Path, The Bulldog Breed, The Cracksman, The Divided Heart, The Extra Day, The Gentle Gunman, The MacKintosh Man, The Man in the Sky, The Mark, The Pot Carriers, The Punch and Judy Man, The Running Man, The Scapegoat, The Sea Shall Not Have Them, The Shakedown, The Square Ring, The Thief and the Cobbler, These Dangerous Years, Time, Gentlemen, Please!, Trouble in the Glen, Where's Jack?, Wonderful Things!, Zarak\n",
      "Erica Simmons: Star Wars\n",
      "Frances Alfred Basil Tomlin: Star Wars\n",
      "Frank Henson: Blue Ice, Carry On... Follow That Camel, Dot.Kill, Enemy Mine, Half Moon Street, Safari 3000, Star Wars, The Black Windmill, The Film-Maker's Son\n",
      "Frazer Diamond: Star Wars\n",
      "Fred Wood: A Challenge for Robin Hood, A Hard Day's Night, A Kind of Loving, A Study in Terror, Adam and Evelyne, All Neat in Black Stockings, And Now for Something Completely Different, Anne of the Thousand Days, Band of Thieves, Battle of Britain, Beau Brummell, Becket, Billy Budd, Blowup, Brazil, Britannia Hospital, Car Trouble, Carry on at Your Convenience, Carry on Cowboy, Carry on Girls, Champions, Charlie Bubbles, Clash of the Titans, Cromwell, Crooks Anonymous, Dad's Army, Daleks' Invasion Earth 2150 A.D., Digby, the Biggest Dog in the World, Doomwatch, Dragonslayer, Father Came Too!, Feast of July, Frenzy, From Russia with Love, Gaiety George, Gandhi, Heavens Above!, Hennessy, Henry V, Herostratus, Hide and Seek, History of the World: Part I, I Could Go on Singing, I Thank a Fool, I'll Never Forget What's'isname, I've Gotta Horse, Jabberwocky, Joey Boy, Lady Chatterley's Lover, Love Thy Neighbour, Mister Ten Per Cent, Morons from Outer Space, Nineteen Eighty-Four, Oliver!, On the Fiddle, One More Time, Operation Crossbow, Piccadilly Incident, Pope Joan, Press for Time, Quest for Love, Robbery, Robin Hood: Prince of Thieves, Rotten to the Core, Santa Claus: The Movie, Scrooge, Siege of the Saxons, Star Wars, Steptoe and Son, Steptoe and Son Ride Again, Stranger in the House, Strangler's Web, Superman II, Superman III, The Adventure of Sherlock Holmes' Smarter Brother, The Alf Garnett Saga, The Amazing Mr. Blunden, The Anniversary, The Dock Brief, The Elephant Man, The Girl on the Boat, The Heroes of Telemark, The Hour of the Pig, The Krays, The L-Shaped Room, The Liquidator, The List of Adrian Messenger, The MacKintosh Man, The Master of Bankdam, The Mouse on the Moon, The Mouse That Roared, The Offence, The Raging Moon, The Rise and Rise of Michael Rimmer, The Secret Agent, The Secret of Blood Island, The Small World of Sammy Lee, The Vengeance of She, Three Hats for Lisa, Till Death Us Do Part, Two and Two Make Six, Una lucertola con la pelle di donna, Up the Chastity Belt, What a Whopper, Withnail & I, Yangtse Incident: The Story of H.M.S. Amethyst, Young Sherlock Holmes\n",
      "Garrick Hagon: A Bridge Too Far, Almost Heaven, Antony and Cleopatra, Balto, Batman, Born to Ride, Charlie and the Chocolate Factory, Chasing Liberty, Country of My Skull, Cry Freedom, Erased, Fade to Black, Finding Rin Tin Tin, Is Anybody There?, Malice in Wonderland, Me and Orson Welles, Mission: Impossible, Monsters of the Id, Murder Story, Ninja, Nowhere to Hide, One Plus One, RED 2, Rolling Vengeance, Rupan sansei, Some Kind of Hero, Spy Game, Star Wars, Taking Sides, The Fourth Angel, The Jacket, The Message, The Spy Who Loved Me, The Walker, The War of the Starfighters, Twilight's Last Gleaming, Venus Senki, Yapian zhanzheng, Zwartboek\n",
      "Geoffrey Moon: A Hitch in Time, Star Wars\n",
      "George Roubicek: Bad Timing, Battle of Britain, Billion Dollar Brain, Blind Date, Dad's Army, Murphy's War, Star Wars, Submarine X-1, The Adding Machine, The Bedford Incident, The Dirty Dozen, The Games, The One That Got Away, The Spy Who Loved Me, The Victors, You Only Live Twice\n",
      "George Stock: Star Wars\n",
      "Gilda Cohen: Star Wars, The Elephant Man\n",
      "Graham Ashley: Adventures of a Plumber's Mate, Adventures of a Private Eye, Adventures of a Taxi Driver, Alfie Darling, Big Zapper, Eskimo Nell, Hennessy, Licensed to Love and Kill, Star Wars, The Deadly Females, The Fast Kill, The Night My Number Came Up, The Swordsman, Track the Man Down\n",
      "Grant McCune: Star Wars\n",
      "Hal Wamsley: Star Wars\n",
      "Harold Weed: Star Wars, Star Wars: Episode V - The Empire Strikes Back\n",
      "Harrison Ford: 42, A Time for Killing, Air Force One, American Graffiti, Anchorman 2: The Legend Continues, Apocalypse Now, Blade Runner, Blade Runner 2049, Clear and Present Danger, Cowboys & Aliens, Crossing Over, Dead Heat on a Merry-Go-Round, Ender's Game, Extraordinary Measures, Firewall, Force 10 from Navarone, Frantic, Getting Straight, Hanover Street, Heroes, Hollywood Homicide, Indiana Jones and the Kingdom of the Crystal Skull, Indiana Jones and the Last Crusade, Indiana Jones and the Temple of Doom, Jimmy Hollywood, Journey to Shiloh, K-19: The Widowmaker, Luv, More American Graffiti, Morning Glory, Paranoia, Patriot Games, Presumed Innocent, Raiders of the Lost Ark, Random Hearts, Regarding Henry, Sabrina, Six Days Seven Nights, Star Wars, Star Wars: Episode V - The Empire Strikes Back, Star Wars: Episode VI - Return of the Jedi, Star Wars: Episode VII - The Force Awakens, The Age of Adaline, The Conversation, The Devil's Own, The Expendables 3, The Frisco Kid, The Fugitive, The Mosquito Coast, Untitled Indiana Jones Project, Witness, Working Girl, Zabriskie Point\n",
      "Harry Fielder: 101 Dalmatians, A Challenge for Robin Hood, A Nightingale Sang in Berkeley Square, Agatha, All Coppers Are..., Anne of the Thousand Days, Attack on the Iron Coast, Battle of Britain, Billion Dollar Brain, Birth of the Beatles, Bless This House, Brannigan, Breaking Glass, Carry on Abroad, Carry on Dick, Carry on Henry, Carry On... Follow That Camel, Carry On... Up the Khyber, Chitty Chitty Bang Bang, Cromwell, Dance with a Stranger, Diana & Me, Empire State, Entrapment, Evita, FairyTale: A True Story, Fiddler on the Roof, First Knight, Force 10 from Navarone, Fords on Water, Frenzy, Go for a Take, Hawks, Highlander, History of the World: Part I, Holiday on the Buses, Hostile Witness, Husbands, Inadmissible Evidence, Incognito, Lisztomania, Loch Ness, McVicar, Mission: Impossible, Mona Lisa, Murphy's War, Mutiny on the Buses, Nobody Runs Forever, Oliver!, One More Time, Otley, Percy, Pink Floyd: The Wall, Plenty, Pope Joan, Quadrophenia, Ragtime, Raiders of the Lost Ark, Reds, Salt and Pepper, Savage Messiah, Say Hello to Yesterday, Soft Beds, Hard Battles, Star Wars, Star!, Steptoe and Son, Superman, Superman II, Sweeney 2, Sweeney!, The Adding Machine, The Assassination Bureau, The Bitch, The Bliss of Mrs. Blossom, The Charge of the Light Brigade, The Eagle Has Landed, The Elephant Man, The Jackal, The Last Valley, The Likely Lads, The Long Good Friday, The MacKintosh Man, The Magnificent Two, The Man Who Knew Too Little, The Music Lovers, The Pied Piper, The Pink Panther Strikes Again, The Revolutionary, The Seven-Per-Cent Solution, The Tamarind Seed, The Thirty-Nine Steps, The Vengeance of She, Three Sisters, Top Secret!, Trial by Combat, True Blue, Valentino, Voyage of the Damned, When Eight Bells Toll, Where Eagles Dare, Where Is Parsifal?, Who Dares Wins, Wilde, Yanks\n",
      "Isaac Grand: Star Wars, Star Wars: Episode VI - Return of the Jedi, The Love Child\n",
      "Jack Klaff: 1871, Elemental Storage, For Your Eyes Only, Hotet, King David, Star Wars\n",
      "Jack Purvis: Brazil, Labyrinth, Mona Lisa, Star Wars, Star Wars: Episode V - The Empire Strikes Back, Star Wars: Episode VI - Return of the Jedi, The Adventures of Baron Munchausen, The Dark Crystal, Time Bandits, Willow, Wombling Free\n",
      "James Earl Jones: A Family Thing, A Mime's Life, A Piece of the Action, Allan Quatermain and the Lost City of Gold, Best of the Best, City Limits, Claudine, Clean Slate, Clear and Present Danger, Click, Coming to America, Conan the Barbarian, Convicts, Cry, the Beloved Country, Deadly Hero, Dr. Strangelove or: How I Learned to Stop Worrying and Love the Bomb, Dreamrider, Driving Miss Daisy, End of the Road, Excessive Force, Field of Dreams, Finder's Fee, Freddie as F.R.O.7., Gang Related, Gardens of Stone, Gimme Shelter, Good Luck, Jack and the Beanstalk, Jefferson in Paris, Judge Dredd, Matewan, My Little Girl, Naked Gun 33 1/3: The Final Insult, On the Q.T., Patriot Games, Pinocchio and the Emperor of the Night, Primary Colors, Quantum Quest: A Cassini Space Odyssey, Ramayana: The Legend of Prince Rama, Robots, Rogue One, Scary Movie 4, Scorchers, Sneakers, Sommersby, Soul Man, Star Wars, Star Wars: Episode III - Revenge of the Sith, Star Wars: Episode V - The Empire Strikes Back, Star Wars: Episode VI - Return of the Jedi, Swashbuckler, The Angriest Man in Brooklyn, The Annihilation of Fish, The Benchwarmers, The Bingo Long Traveling All-Stars & Motor Kings, The Bushido Blade, The Comedians, The Great White Hope, The Greatest, The Hunt for Red October, The Last Remake of Beau Geste, The Lion King, The Man, The Meteor Man, The River Niger, The Sandlot, Three Fugitives, True Identity, Undercover Angel, Warning Shot, Welcome Home, Roscoe Jenkins\n",
      "Janice Burchette: Star Wars\n",
      "Jeremy Sinden: Ascendancy, Chariots of Fire, Doll's Eye, Let Him Have It, Madame Sousatzka, Rosie Dixon - Night Nurse, Star Wars, The Innocent, The Object of Beauty\n",
      "Jerry Walter: Freebie and the Bean, Star Wars, The Enforcer, The Promise\n",
      "Joe Johnston: Star Wars, Star Wars: Episode V - The Empire Strikes Back, The Lawful Truth\n",
      "Joe Kaye: Star Wars\n",
      "John (V) Chapman: Instant Death, Scrapper, Star Wars\n",
      "John Sylla: Star Wars, The Fluffer\n",
      "Jon Berg: Star Wars\n",
      "Kenny Baker: 24 Hour Party People, Amadeus, Flash Gordon, Labyrinth, Mona Lisa, Sleeping Beauty, Star Wars, Star Wars: Episode I - The Phantom Menace, Star Wars: Episode II - Attack of the Clones, Star Wars: Episode III - Revenge of the Sith, Star Wars: Episode V - The Empire Strikes Back, Star Wars: Episode VI - Return of the Jedi, The Elephant Man, The King and I, Time Bandits, U.F.O., Willow, Wombling Free\n",
      "Kim Falkinburg: Star Wars\n",
      "Laine Liska: Star Wars\n",
      "Larry (III) Ward: Star Wars, Star Wars: Episode VI - Return of the Jedi\n",
      "Leslie Schofield: Clockwise, Force 10 from Navarone, Silver Dream Racer, Star Wars, The Glitterball, The Ruling Class, The Wild Geese, Twinky, Villain\n",
      "Lightning Bear: Bad Blood, Star Wars, Star Wars: Episode V - The Empire Strikes Back\n",
      "Linda Jones: Detenute violente, Felony, Perverse oltre le sbarre, Star Wars\n",
      "Lorne Peterson: Star Wars, Star Wars: Episode I - The Phantom Menace\n",
      "Mahjoub: Star Wars\n",
      "Malcolm Tierney: All Neat in Black Stockings, Braveheart, Family Life, Great Expectations, In the Name of the Father, L.A. Without a Map, Little Dorrit, McVicar, Shiner, Star Wars, The 14, The Eagle Has Landed, The Final Curtain, The Saint, The Smoke\n",
      "Mandy Morton: Star Wars\n",
      "Marcus Powell: Britannia Hospital, Escape from Safehaven, Mob Queen, Nemo, Nobody's Fool, Star Wars, The Elephant Man, Time Bandits, Top Secret!, Willy Wonka & the Chocolate Factory, Wombling Free\n",
      "Maria De Aragon: City on Fire, For Those Who Think Young, Love Me Like I Do, Nightmare in the Sun, Star Wars, Street Wars, The Cremators\n",
      "Mark Anthony Austin: Star Wars\n",
      "Mark Hamill: Back to the Sea, Batman: Mask of the Phantasm, Batman: The Killing Joke, Brigsby Bear, Britannia Hospital, Bunyan and Babe, Con Man, Corvette Summer, Guyver, Hamilton, Howard Lovecraft & the Undersea Kingdom, Jay and Silent Bob Strike Back, Kaze no tani no Naushika, Kingsman: The Secret Service, La chute des aigles, Laserhawk, Quantum Quest: A Cassini Space Odyssey, Reeseville, Repetition (II), Robotech: The Shadow Chronicles, Silk Degrees, Sinbad: Beyond the Veil of Mists, Slipstream, Star Wars, Star Wars: Episode IX, Star Wars: Episode V - The Empire Strikes Back, Star Wars: Episode VI - Return of the Jedi, Star Wars: Episode VII - The Force Awakens, Sushi Girl, Terra, Thank You, Good Night, The Big Red One, The Night the Lights Went Out in Georgia, The Raffle, Thru the Moebius Strip, Time Runner, Virtually Heroes, Walking Across Egypt, Wing Commander, Wizards, Wolf Tracer's Dinosaur Island\n",
      "Melissa Kurtz: Star Wars\n",
      "Morgan Upton: Bucktown, Chu Chu and the Philly Flash, Corvette Summer, Die Laughing, Klansman, Linda Lovelace for President, Loose Shoes, Massive Retaliation, More American Graffiti, No Small Affair, One Is a Lonely Number, Peggy Sue Got Married, Shoot the Moon, Space Is the Place, Star Wars, Steelyard Blues, Sudden Impact, The Big Bus, The Candidate, The Spirit of '76, The Survivors, Tucker: The Man and His Dream\n",
      "Nelson Hall: Star Wars, Star Wars: Episode VI - Return of the Jedi\n",
      "Pam Rose: A Doll's House, Are You Being Served?, Batman, Battle of Britain, Confessions from a Holiday Camp, Death Defying Acts, George and Mildred, International Velvet, Miss Pettigrew Lives for a Day, Miss Potter, Nasty Habits, No Sex Please: We're British, Star Wars, Superman, The Likely Lads, Wombling Free, Z-Listers\n",
      "Paul (II) Blake: Hennessy, Some of My Best Friends Are, Star Wars, The Second Victory\n",
      "Peter (II) Mayhew: Fanboys, Sinbad and the Eye of the Tiger, Star Wars, Star Wars: Episode III - Revenge of the Sith, Star Wars: Episode V - The Empire Strikes Back, Star Wars: Episode VI - Return of the Jedi, Star Wars: Episode VII - The Force Awakens, Yesterday Was a Lie\n",
      "Peter Cushing: A Chump at Oxford, A Touch of the Sun, Alexander the Great, Arabian Adventure, Asalto al casino, At the Earth's Core, Biggles, Cash on Demand, Cone of Silence, Daleks' Invasion Earth 2150 A.D., Die Standarte, Dr. Who and the Daleks, Fury at Smugglers' Bay, Hamlet, John Paul Jones, Laddie, Lolita, Magic Fire, Moulin Rouge, One More Time, Shatter, She, Some May Live, Son of Hitler, Star Wars, Suspect, Sword of Sherwood Forest, Sword of the Valiant: The Legend of Sir Gawain and the Green Knight, The Black Knight, The End of the Affair, The Hellfire Club, The Howards of Virginia, The Man in the Iron Mask, The Man Who Finally Died, The Naked Edge, They Dare Not Love, Time Without Pity, Top Secret!, Trial by Combat, Vigil in the Night, Violent Playground, Women in War\n",
      "Peter Diamond: Candleshoe, Crossroads to Crime, Highlander, Ik ben Joep Meloen, Nate and Hayes, Raiders of the Lost Ark, Star Wars, Star Wars: Episode V - The Empire Strikes Back, Star Wars: Episode VI - Return of the Jedi, Superman IV: The Quest for Peace, The Dam Busters, The Face of Fu Manchu, The Pleasure Girls, Victor Victoria\n",
      "Peter Sturgeon: Star Wars\n",
      "Peter Sumner: Bush Christmas, Color Me Dead, Ektopos, Middle Age Spread, Ned Kelly, Run Rebecca, Run!, Ryder Country, Star Wars, The Chant of Jimmie Blacksmith, The King of the Two Day Wonder, They're a Weird Mob\n",
      "Phil Brown: A King in New York, Bomba u 10 i 10, Calling Dr. Gillespie, Chaplin, Give Us This Day, H.M. Pulham, Esq., Hello, Annapolis, I Wanted Wings, If You Knew Susie, John Paul Jones, Johnny O'Clock, Land Raiders, Miss Beatty's Children, Moonrise, Obsession, Ooh... You Are Awful, Operation Cross Eagles, Over 21, Pierre of the Plains, Scalawag, Silver Bears, Star Wars, State Fair, Superman, The Adding Machine, The Bedford Incident, The Boy Cried Murder, The Camp on Blood Island, The Counterfeit Traitor, The Green Scarf, The Impatient Years, The Killers, The Luck of the Irish, The Pink Panther Strikes Again, The Romantic Englishwoman, Togetherness, Tropic of Cancer, Twilight's Last Gleaming, Valdez Is Coming, Without Reservations\n",
      "Phil Tippett: Star Wars, Star Wars: Episode VI - Return of the Jedi\n",
      "Reg Harding: Carry on Cowboy, Octopussy, On Her Majesty's Secret Service, Raiders of the Lost Ark, See No Evil, Star Wars\n",
      "Richard LeParmentier: Blind Man's Bluff, Octopussy, Reds, Rollerball, Silver Dream Racer, Star Wars, Stardust, Superman II, The Berlin Conspiracy, The Music Machine, The People That Time Forgot, Valentino, Who Framed Roger Rabbit\n",
      "Rick McCallum: Star Wars, Star Wars: Episode I - The Phantom Menace\n",
      "Robert (V) Davies: Star Wars\n",
      "Robert A. Denham: Star Wars\n",
      "Roy Straite: Star Wars\n",
      "Rusty Goffe: Ali G Indahouse, Flash Gordon, Fred Claus, Funny Bones, Harry Potter and the Deathly Hallows: Part 2, Harry Potter and the Half-Blood Prince, Harry Potter and the Order of the Phoenix, Harry Potter and the Sorcerer's Stone, History of the World: Part I, Mirrormask, Mrs Henderson Presents, Star Wars, U.F.O., Willow, Willy Wonka & the Chocolate Factory\n",
      "Sadie Eden: Secrets of a Windmill Girl, Star Wars\n",
      "Salo Gardner: Broken (IV), Dorian Gray, Hotel Splendide, Pan, Star Wars, Star Wars: Episode VII - The Force Awakens, Summer Holiday\n",
      "Scott Beach: American Graffiti, Bizarre Devices, Bon Voyage, Charlie Brown (and Don't Come Back!!), Bullitt, Chu Chu and the Philly Flash, Getting Even with Dad, Mrs. Doubtfire, One Is a Lonely Number, Out, Stand by Me, Star Wars, The Grizzly & the Treasure, The Right Stuff, The Second Coming of Suzanne, THX 1138, To Be or Not to Be, Tucker: The Man and His Dream\n",
      "Shane Rimmer: A Dangerous Age, A Kid in King Arthur's Court, A Kiss Before Dying, Alien Autopsy, Arabian Adventure, Batman Begins, Company Business, Crusoe, Diamonds Are Forever, Dr. Strangelove or: How I Learned to Stop Worrying and Love the Bomb, Dreamchild, Flaming Frontier, Gandhi, Hanover Street, Julia, La morte viene dallo spazio, Live and Let Die, Lovelorn, Mee-Shee: The Water Giant, Morons from Outer Space, Nasty Habits, One of the Hollywood Ten, Out of Africa, Piccolo grande amore, Priest of Love, Reds, Rollerball, S*P*Y*S, Scorpio, Silver Bears, Space Truckers, Spy Game, Star Wars, Superman, Superman II, Superman III, The 'Human' Factor, The Bedford Incident, The Dogs of War, The Holcroft Covenant, The Lonely Lady, The People That Time Forgot, The Spy Who Loved Me, The War of the Starfighters, Thunderbird 6, Thunderbirds Are GO, Twilight's Last Gleaming, Warlords of Atlantis, White Nights, Whoops Apocalypse, Year of the Comet, You Only Live Twice\n",
      "Shelagh Fraser: A Touch of Love, Doomwatch, Esther Waters, Hope and Glory, I Live in Grosvenor Square, Meet Me at Dawn, Raising a Riot, Salute the Toff, Son of Robin Hood, Staircase, Star Wars, The History of Mr. Polly, The Last Man to Hang?, The Master of Bankdam, Till Death Us Do Part, Trio, Two Gentlemen Sharing, Welcome, Mr. Washington, Your Witness\n",
      "Steve 'Spaz' Williams: Star Wars\n",
      "Steve Gawley: Star Wars\n",
      "Ted Burnett: A Hitch in Time, Britannia Hospital, Let's Get Laid, Star Wars\n",
      "Ted Gagliano: Star Wars\n",
      "Tiffany Hillkurtz: Astro Boy, Star Wars, Star Wars: Episode V - The Empire Strikes Back\n",
      "Tim Condren: A View to a Kill, Burning an Illusion, Carry on Cowboy, Gentry, Licensed to Love and Kill, Moon Zero Two, Morgan: A Suitable Case for Treatment, Ooh... You Are Awful, Star Wars, The Holcroft Covenant\n",
      "Tom Sylla: Star Wars, Star Wars: Episode I - The Phantom Menace\n",
      "Tommy Ilsley: Star Wars\n",
      "Warwick Diamond: Star Wars\n",
      "William Hootkins: A River Runs Through It, Bad Timing, Batman, Big Zapper, Biggles, Colour Me Kubrick: A True...ish Story, Crusoe, Curse of the Pink Panther, Dear Wendy, Die unendliche Geschichte III: Rettung aus Phantasien, Dreamchild, Flash Gordon, Funny Bones, Gospa, Hanover Street, Hardware, Haunted Honeymoon, Hear My Song, Hussy, Raiders of the Lost Ark, Something to Believe In, Sphinx, Star Wars, Superman IV: The Quest for Peace, The Cement Garden, The Lady Vanishes, The Miracle Maker, The Omega Code, The Pope Must Die, This World, Then the Fireworks, Town & Country, Trail of the Pink Panther, Twilight's Last Gleaming, Valentino, Water, White Nights, Zina\n"
     ]
    }
   ],
   "source": [
    "star_wars_cast = cast[cast['title'] == 'Star Wars']\n",
    "star_wars_actors = star_wars_cast['name'].unique()\n",
    "actors_after_star_wars = cast[cast['name'].isin(star_wars_actors)]\n",
    "films_after_star_wars = actors_after_star_wars.groupby('name')['title'].unique()\n",
    "for actor, films in films_after_star_wars.items():\n",
    "    print(f\"{actor}: {', '.join(films)}\")"
   ]
  },
  {
   "cell_type": "markdown",
   "id": "d7a79f7a",
   "metadata": {},
   "source": [
    "During completing this assignment I used various resources such as Stach overflow, github, class material and Chtgpt."
   ]
  }
 ],
 "metadata": {
  "kernelspec": {
   "display_name": "Python 3 (ipykernel)",
   "language": "python",
   "name": "python3"
  },
  "language_info": {
   "codemirror_mode": {
    "name": "ipython",
    "version": 3
   },
   "file_extension": ".py",
   "mimetype": "text/x-python",
   "name": "python",
   "nbconvert_exporter": "python",
   "pygments_lexer": "ipython3",
   "version": "3.11.5"
  }
 },
 "nbformat": 4,
 "nbformat_minor": 5
}
